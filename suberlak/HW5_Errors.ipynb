{
 "metadata": {
  "name": ""
 },
 "nbformat": 3,
 "nbformat_minor": 0,
 "worksheets": [
  {
   "cells": [
    {
     "cell_type": "code",
     "collapsed": false,
     "input": [
      "\"\"\"\n",
      "A script to compare different root-finding algorithms.\n",
      "\n",
      "This version of the script is buggy and does not execute. It is your task\n",
      "to find an fix these bugs.\n",
      "\n",
      "The output of the script sould look like:\n",
      "\n",
      "    Benching 1D root-finder optimizers from scipy.optimize:\n",
      "                brenth:   604678 total function calls\n",
      "                brentq:   594454 total function calls\n",
      "                ridder:   778394 total function calls\n",
      "                bisect:  2148380 total function calls\n",
      "\"\"\"\n",
      "from itertools import product\n",
      "\n",
      "import numpy as np\n",
      "from scipy import optimize\n",
      "\n",
      "FUNCTIONS = (np.tan,  # Dilating map\n",
      "             np.tanh, # Contracting map\n",
      "             lambda x: x**3 + 1e-4*x, # Almost null gradient at the root\n",
      "             lambda x: x+np.sin(2*x), # Non monotonous function\n",
      "             lambda x: 1.1*x+np.sin(4*x), # Fonction with several local maxima\n",
      "            )\n",
      "\n",
      "OPTIMIZERS = (optimize.brenth, optimize.brentq, optimize.ridder,\n",
      "              optimize.bisect)\n",
      "\n",
      "\n",
      "def apply_optimizer(optimizer, func, a, b):\n",
      "    \"\"\" Return the number of function calls given an root-finding optimizer, \n",
      "        a function and upper and lower bounds.\n",
      "    \"\"\"\n",
      "    return optimizer(func, a, b, full_output=True)[1].function_calls,\n",
      "\n",
      "\n",
      "def bench_optimizer(optimizer, param_grid):\n",
      "    \"\"\" Find roots for all the functions, and upper and lower bounds\n",
      "        given and return the total number of function calls.\n",
      "    \"\"\"\n",
      "    return sum(apply_optimizer(optimizer, func, a, b)\n",
      "               for func, a, b in param_grid)\n",
      "\n",
      "\n",
      "def compare_optimizers(optimizers):\n",
      "    \"\"\" Compare all the optimizers given on a grid of a few different\n",
      "        functions all admitting a signle root in zero and a upper and\n",
      "        lower bounds.\n",
      "    \"\"\"\n",
      "    random_a = -1.3 + np.random.random(size=100)\n",
      "    random_b =   .3 + np.random.random(size=100)\n",
      "    param_grid = product(FUNCTIONS, random_a, random_b)\n",
      "    print \"Benching 1D root-finder optimizers from scipy.optimize:\"\n",
      "    for optimizer in OPTIMIZERS:\n",
      "        print '% 20s: % 8i total function calls' % (\n",
      "                    optimizer.__name__, \n",
      "                    bench_optimizer(optimizer, param_grid)\n",
      "                )\n",
      "\n",
      "\n",
      "if __name__ == '__main__':\n",
      "    compare_optimizers(OPTIMIZERS)"
     ],
     "language": "python",
     "metadata": {},
     "outputs": [
      {
       "ename": "TypeError",
       "evalue": "unsupported operand type(s) for +: 'int' and 'tuple'",
       "output_type": "pyerr",
       "traceback": [
        "\u001b[1;31m---------------------------------------------------------------------------\u001b[0m\n\u001b[1;31mTypeError\u001b[0m                                 Traceback (most recent call last)",
        "\u001b[1;32m<ipython-input-1-d9a0170a9537>\u001b[0m in \u001b[0;36m<module>\u001b[1;34m()\u001b[0m\n\u001b[0;32m     61\u001b[0m \u001b[1;33m\u001b[0m\u001b[0m\n\u001b[0;32m     62\u001b[0m \u001b[1;32mif\u001b[0m \u001b[0m__name__\u001b[0m \u001b[1;33m==\u001b[0m \u001b[1;34m'__main__'\u001b[0m\u001b[1;33m:\u001b[0m\u001b[1;33m\u001b[0m\u001b[0m\n\u001b[1;32m---> 63\u001b[1;33m     \u001b[0mcompare_optimizers\u001b[0m\u001b[1;33m(\u001b[0m\u001b[0mOPTIMIZERS\u001b[0m\u001b[1;33m)\u001b[0m\u001b[1;33m\u001b[0m\u001b[0m\n\u001b[0m",
        "\u001b[1;32m<ipython-input-1-d9a0170a9537>\u001b[0m in \u001b[0;36mcompare_optimizers\u001b[1;34m(optimizers)\u001b[0m\n\u001b[0;32m     56\u001b[0m         print '% 20s: % 8i total function calls' % (\n\u001b[0;32m     57\u001b[0m                     \u001b[0moptimizer\u001b[0m\u001b[1;33m.\u001b[0m\u001b[0m__name__\u001b[0m\u001b[1;33m,\u001b[0m\u001b[1;33m\u001b[0m\u001b[0m\n\u001b[1;32m---> 58\u001b[1;33m                     \u001b[0mbench_optimizer\u001b[0m\u001b[1;33m(\u001b[0m\u001b[0moptimizer\u001b[0m\u001b[1;33m,\u001b[0m \u001b[0mparam_grid\u001b[0m\u001b[1;33m)\u001b[0m\u001b[1;33m\u001b[0m\u001b[0m\n\u001b[0m\u001b[0;32m     59\u001b[0m                 )\n\u001b[0;32m     60\u001b[0m \u001b[1;33m\u001b[0m\u001b[0m\n",
        "\u001b[1;32m<ipython-input-1-d9a0170a9537>\u001b[0m in \u001b[0;36mbench_optimizer\u001b[1;34m(optimizer, param_grid)\u001b[0m\n\u001b[0;32m     41\u001b[0m     \"\"\"\n\u001b[0;32m     42\u001b[0m     return sum(apply_optimizer(optimizer, func, a, b)\n\u001b[1;32m---> 43\u001b[1;33m                for func, a, b in param_grid)\n\u001b[0m\u001b[0;32m     44\u001b[0m \u001b[1;33m\u001b[0m\u001b[0m\n\u001b[0;32m     45\u001b[0m \u001b[1;33m\u001b[0m\u001b[0m\n",
        "\u001b[1;31mTypeError\u001b[0m: unsupported operand type(s) for +: 'int' and 'tuple'"
       ]
      },
      {
       "output_type": "stream",
       "stream": "stdout",
       "text": [
        "Benching 1D root-finder optimizers from scipy.optimize:\n"
       ]
      }
     ],
     "prompt_number": 1
    },
    {
     "cell_type": "markdown",
     "metadata": {},
     "source": [
      "When I first run this program  I get  \n",
      "```\n",
      "TypeError: unsupported operand type(s) for +: 'int' and 'tuple''.\n",
      "```\n",
      "\n",
      "I also spotted that there is a redundant comma in the \n",
      "```\n",
      "apply_optimizer(optimizer, func, a, b):\n",
      "```  \n",
      "function  (normally we need to close the left bracket, and commas are never left on their own) "
     ]
    },
    {
     "cell_type": "code",
     "collapsed": false,
     "input": [
      "\"\"\"\n",
      "A script to compare different root-finding algorithms.\n",
      "\n",
      "This version of the script is buggy and does not execute. It is your task\n",
      "to find an fix these bugs.\n",
      "\n",
      "The output of the script sould look like:\n",
      "\n",
      "    Benching 1D root-finder optimizers from scipy.optimize:\n",
      "                brenth:   604678 total function calls\n",
      "                brentq:   594454 total function calls\n",
      "                ridder:   778394 total function calls\n",
      "                bisect:  2148380 total function calls\n",
      "\"\"\"\n",
      "from itertools import product\n",
      "\n",
      "import numpy as np\n",
      "from scipy import optimize\n",
      "\n",
      "FUNCTIONS = (np.tan,  # Dilating map\n",
      "             np.tanh, # Contracting map\n",
      "             lambda x: x**3 + 1e-4*x, # Almost null gradient at the root\n",
      "             lambda x: x+np.sin(2*x), # Non monotonous function\n",
      "             lambda x: 1.1*x+np.sin(4*x), # Fonction with several local maxima\n",
      "            )\n",
      "\n",
      "OPTIMIZERS = (optimize.brenth, optimize.brentq, optimize.ridder,\n",
      "              optimize.bisect)\n",
      "\n",
      "\n",
      "def apply_optimizer(optimizer, func, a, b):\n",
      "    \"\"\" Return the number of function calls given an root-finding optimizer, \n",
      "        a function and upper and lower bounds.\n",
      "    \"\"\"\n",
      "    return optimizer(func, a, b, full_output=True)[1].function_calls)\n",
      "\n",
      "\n",
      "def bench_optimizer(optimizer, param_grid):\n",
      "    \"\"\" Find roots for all the functions, and upper and lower bounds\n",
      "        given and return the total number of function calls.\n",
      "    \"\"\"\n",
      "    return sum(apply_optimizer(optimizer, func, a, b)\n",
      "               for func, a, b in param_grid)\n",
      "\n",
      "\n",
      "def compare_optimizers(optimizers):\n",
      "    \"\"\" Compare all the optimizers given on a grid of a few different\n",
      "        functions all admitting a signle root in zero and a upper and\n",
      "        lower bounds.\n",
      "    \"\"\"\n",
      "    random_a = -1.3 + np.random.random(size=100)\n",
      "    random_b =   .3 + np.random.random(size=100)\n",
      "    param_grid = product(FUNCTIONS, random_a, random_b)\n",
      "    print \"Benching 1D root-finder optimizers from scipy.optimize:\"\n",
      "    for optimizer in OPTIMIZERS:\n",
      "        print '% 20s: % 8i total function calls' % (\n",
      "                    optimizer.__name__, \n",
      "                    bench_optimizer(optimizer, param_grid)\n",
      "                )\n",
      "\n",
      "\n",
      "if __name__ == '__main__':\n",
      "    compare_optimizers(OPTIMIZERS)"
     ],
     "language": "python",
     "metadata": {},
     "outputs": [
      {
       "ename": "SyntaxError",
       "evalue": "invalid syntax (<ipython-input-3-8e5778aef233>, line 35)",
       "output_type": "pyerr",
       "traceback": [
        "\u001b[1;36m  File \u001b[1;32m\"<ipython-input-3-8e5778aef233>\"\u001b[1;36m, line \u001b[1;32m35\u001b[0m\n\u001b[1;33m    return optimizer(func, a, b, full_output=True)[1].function_calls)\u001b[0m\n\u001b[1;37m                                                                    ^\u001b[0m\n\u001b[1;31mSyntaxError\u001b[0m\u001b[1;31m:\u001b[0m invalid syntax\n"
       ]
      }
     ],
     "prompt_number": 3
    },
    {
     "cell_type": "markdown",
     "metadata": {},
     "source": [
      "I replaced the comma with a closing bracket ) , but then I got an error\n",
      "```\n",
      "SyntaxError: invalid syntax\n",
      "```\n",
      "Which led me to look again at the line, and realise that it should not be there at all. "
     ]
    },
    {
     "cell_type": "code",
     "collapsed": false,
     "input": [
      "\"\"\"\n",
      "A script to compare different root-finding algorithms.\n",
      "\n",
      "This version of the script is buggy and does not execute. It is your task\n",
      "to find an fix these bugs.\n",
      "\n",
      "The output of the script sould look like:\n",
      "\n",
      "    Benching 1D root-finder optimizers from scipy.optimize:\n",
      "                brenth:   604678 total function calls\n",
      "                brentq:   594454 total function calls\n",
      "                ridder:   778394 total function calls\n",
      "                bisect:  2148380 total function calls\n",
      "\"\"\"\n",
      "from itertools import product\n",
      "\n",
      "import numpy as np\n",
      "from scipy import optimize\n",
      "\n",
      "FUNCTIONS = (np.tan,  # Dilating map\n",
      "             np.tanh, # Contracting map\n",
      "             lambda x: x**3 + 1e-4*x, # Almost null gradient at the root\n",
      "             lambda x: x+np.sin(2*x), # Non monotonous function\n",
      "             lambda x: 1.1*x+np.sin(4*x), # Fonction with several local maxima\n",
      "            )\n",
      "\n",
      "OPTIMIZERS = (optimize.brenth, optimize.brentq, optimize.ridder,\n",
      "              optimize.bisect)\n",
      "\n",
      "\n",
      "def apply_optimizer(optimizer, func, a, b):\n",
      "    \"\"\" Return the number of function calls given an root-finding optimizer, \n",
      "        a function and upper and lower bounds.\n",
      "    \"\"\"\n",
      "    return optimizer(func, a, b, full_output=True)[1].function_calls\n",
      "\n",
      "\n",
      "def bench_optimizer(optimizer, param_grid):\n",
      "    \"\"\" Find roots for all the functions, and upper and lower bounds\n",
      "        given and return the total number of function calls.\n",
      "    \"\"\"\n",
      "    return sum(apply_optimizer(optimizer, func, a, b)\n",
      "               for func, a, b in param_grid)\n",
      "\n",
      "\n",
      "def compare_optimizers(optimizers):\n",
      "    \"\"\" Compare all the optimizers given on a grid of a few different\n",
      "        functions all admitting a signle root in zero and a upper and\n",
      "        lower bounds.\n",
      "    \"\"\"\n",
      "    random_a = -1.3 + np.random.random(size=100)\n",
      "    random_b =   .3 + np.random.random(size=100)\n",
      "    param_grid = product(FUNCTIONS, random_a, random_b)\n",
      "    #print param_grid\n",
      "    #print FUNCTIONS\n",
      "    print \"Benching 1D root-finder optimizers from scipy.optimize:\"\n",
      "    for optimizer in OPTIMIZERS:\n",
      "        print '% 20s: % 8i total function calls' % (\n",
      "                    optimizer.__name__, \n",
      "                    bench_optimizer(optimizer, param_grid)\n",
      "                )\n",
      "\n",
      "\n",
      "if __name__ == '__main__':\n",
      "    compare_optimizers(OPTIMIZERS)"
     ],
     "language": "python",
     "metadata": {},
     "outputs": [
      {
       "output_type": "stream",
       "stream": "stdout",
       "text": [
        "(<ufunc 'tan'>, <ufunc 'tanh'>, <function <lambda> at 0x28ce398>, <function <lambda> at 0x28ce488>, <function <lambda> at 0x28ceb18>)\n",
        "Benching 1D root-finder optimizers from scipy.optimize:\n",
        "              brenth:   603090 total function calls"
       ]
      },
      {
       "output_type": "stream",
       "stream": "stdout",
       "text": [
        "\n",
        "              brentq:        0 total function calls\n",
        "              ridder:        0 total function calls\n",
        "              bisect:        0 total function calls\n"
       ]
      }
     ],
     "prompt_number": 14
    },
    {
     "cell_type": "markdown",
     "metadata": {},
     "source": [
      "Now I see that brenth has a lot of calls (603172) , but none of the other optimizers is being used. \n",
      "Hence because in the \n",
      "```\n",
      "compare_optimizers(optimizers)\n",
      "```\n",
      "function the \n",
      "```\n",
      "bench_optimizer(optimizer, param_grid)\n",
      "```\n",
      "calls the optmizer from OPTIMIZERS list, and param_grid  from itertools PRODUCT,  uses all possible combinations of functions, and two parameters, random_a and random_b, I try to understand how it works.\n",
      "\n",
      "I googled for itertools product, finding http://docs.python.org/2/library/itertools.html  , which showed me that it produces a cartesian product of input iterables. \n",
      "\n",
      "When I print param_grid , nothing happens apart from showing me that there is an itertools object somewhere:\n",
      "```\n",
      "<itertools.product object at 0x295b7d0>\n",
      "```\n",
      "            \n",
      "so I still don't understand what does it contain and how does it look. But when I inserted print param_grid  into the for loop for the compare_optimizers function , I found that it does not change each time the loop is executed. So perhaps it ought have been put inside the loop? \n"
     ]
    },
    {
     "cell_type": "markdown",
     "metadata": {},
     "source": [
      "I try to dig into the param_grid object: "
     ]
    },
    {
     "cell_type": "code",
     "collapsed": false,
     "input": [
      "FUNCTIONS = (np.tan,  # Dilating map\n",
      "             np.tanh, # Contracting map\n",
      "             lambda x: x**3 + 1e-4*x, # Almost null gradient at the root\n",
      "             lambda x: x+np.sin(2*x), # Non monotonous function\n",
      "             lambda x: 1.1*x+np.sin(4*x), # Fonction with several local maxima\n",
      "            )\n",
      "random_a = -1.3 + np.random.random(size=2)\n",
      "random_b =   .3 + np.random.random(size=2)\n",
      "param_grid = product(FUNCTIONS, random_a, random_b)\n",
      "\n",
      "for (a,b,c) in param_grid : print (a,b,c), param_grid"
     ],
     "language": "python",
     "metadata": {},
     "outputs": [
      {
       "output_type": "stream",
       "stream": "stdout",
       "text": [
        "(<ufunc 'tan'>, -0.68160419679298812, 1.2493027423012451) <itertools.product object at 0x295bb90>\n",
        "(<ufunc 'tan'>, -0.68160419679298812, 0.92606740645692276) <itertools.product object at 0x295bb90>\n",
        "(<ufunc 'tan'>, -0.68296569750736325, 1.2493027423012451) <itertools.product object at 0x295bb90>\n",
        "(<ufunc 'tan'>, -0.68296569750736325, 0.92606740645692276) <itertools.product object at 0x295bb90>\n",
        "(<ufunc 'tanh'>, -0.68160419679298812, 1.2493027423012451) <itertools.product object at 0x295bb90>\n",
        "(<ufunc 'tanh'>, -0.68160419679298812, 0.92606740645692276) <itertools.product object at 0x295bb90>\n",
        "(<ufunc 'tanh'>, -0.68296569750736325, 1.2493027423012451) <itertools.product object at 0x295bb90>\n",
        "(<ufunc 'tanh'>, -0.68296569750736325, 0.92606740645692276) <itertools.product object at 0x295bb90>\n",
        "(<function <lambda> at 0x28cec08>, -0.68160419679298812, 1.2493027423012451) <itertools.product object at 0x295bb90>\n",
        "(<function <lambda> at 0x28cec08>, -0.68160419679298812, 0.92606740645692276) <itertools.product object at 0x295bb90>\n",
        "(<function <lambda> at 0x28cec08>, -0.68296569750736325, 1.2493027423012451) <itertools.product object at 0x295bb90>\n",
        "(<function <lambda> at 0x28cec08>, -0.68296569750736325, 0.92606740645692276) <itertools.product object at 0x295bb90>\n",
        "(<function <lambda> at 0x28ceed8>, -0.68160419679298812, 1.2493027423012451) <itertools.product object at 0x295bb90>\n",
        "(<function <lambda> at 0x28ceed8>, -0.68160419679298812, 0.92606740645692276) <itertools.product object at 0x295bb90>\n",
        "(<function <lambda> at 0x28ceed8>, -0.68296569750736325, 1.2493027423012451) <itertools.product object at 0x295bb90>\n",
        "(<function <lambda> at 0x28ceed8>, -0.68296569750736325, 0.92606740645692276) <itertools.product object at 0x295bb90>\n",
        "(<function <lambda> at 0x28cee60>, -0.68160419679298812, 1.2493027423012451) <itertools.product object at 0x295bb90>\n",
        "(<function <lambda> at 0x28cee60>, -0.68160419679298812, 0.92606740645692276) <itertools.product object at 0x295bb90>\n",
        "(<function <lambda> at 0x28cee60>, -0.68296569750736325, 1.2493027423012451) <itertools.product object at 0x295bb90>\n",
        "(<function <lambda> at 0x28cee60>, -0.68296569750736325, 0.92606740645692276) <itertools.product object at 0x295bb90>\n"
       ]
      }
     ],
     "prompt_number": 41
    },
    {
     "cell_type": "markdown",
     "metadata": {},
     "source": [
      "Seems to work, but now I must check how it is used : it is called by bench_optimizer , \n",
      "```\n",
      "sum(apply_optimizer(optimizer, func, a, b)\n",
      "               for func, a, b in param_grid)\n",
      "```\n",
      "while apply_optimizer called here returns \n",
      "```\n",
      "optimizer(func, a, b, full_output=True)[1].function_calls\n",
      "```"
     ]
    },
    {
     "cell_type": "markdown",
     "metadata": {},
     "source": [
      "I investigate the sum:\n",
      "    "
     ]
    },
    {
     "cell_type": "code",
     "collapsed": false,
     "input": [
      "FUNCTIONS = (np.tan,  # Dilating map\n",
      "             np.tanh, # Contracting map\n",
      "             lambda x: x**3 + 1e-4*x, # Almost null gradient at the root\n",
      "             lambda x: x+np.sin(2*x), # Non monotonous function\n",
      "             lambda x: 1.1*x+np.sin(4*x), # Fonction with several local maxima\n",
      "            )\n",
      "random_a = -1.3 + np.random.random(size=2)\n",
      "random_b =   .3 + np.random.random(size=2)\n",
      "param_grid = product(FUNCTIONS, random_a, random_b)\n",
      "optimizer=OPTIMIZERS[1]\n",
      "print sum(apply_optimizer(optimizer, a,b,c) for a,b,c in param_grid)"
     ],
     "language": "python",
     "metadata": {},
     "outputs": [
      {
       "output_type": "stream",
       "stream": "stdout",
       "text": [
        "235\n"
       ]
      }
     ],
     "prompt_number": 48
    },
    {
     "cell_type": "markdown",
     "metadata": {},
     "source": [
      "When I do it this way, I easily change OPTIMIZERS to a different value, and the sum changes too. But when I run it in the loop:"
     ]
    },
    {
     "cell_type": "code",
     "collapsed": false,
     "input": [
      "FUNCTIONS = (np.tan,  # Dilating map\n",
      "             np.tanh, # Contracting map\n",
      "             lambda x: x**3 + 1e-4*x, # Almost null gradient at the root\n",
      "             lambda x: x+np.sin(2*x), # Non monotonous function\n",
      "             lambda x: 1.1*x+np.sin(4*x), # Fonction with several local maxima\n",
      "            )\n",
      "random_a = -1.3 + np.random.random(size=2)\n",
      "random_b =   .3 + np.random.random(size=2)\n",
      "param_grid = product(FUNCTIONS, random_a, random_b)\n",
      "\n",
      "for optimizer in OPTIMIZERS: print sum(apply_optimizer(optimizer, a,b,c) for a,b,c in param_grid)"
     ],
     "language": "python",
     "metadata": {},
     "outputs": [
      {
       "output_type": "stream",
       "stream": "stdout",
       "text": [
        "235\n",
        "0\n",
        "0\n",
        "0\n"
       ]
      }
     ],
     "prompt_number": 49
    },
    {
     "cell_type": "markdown",
     "metadata": {},
     "source": [
      "I get zeroes apart from the first value : so param_grid seems to work only for the first one, and it does not get invoked for the second time. So if I put it  inside the loop:"
     ]
    },
    {
     "cell_type": "code",
     "collapsed": false,
     "input": [
      "FUNCTIONS = (np.tan,  # Dilating map\n",
      "             np.tanh, # Contracting map\n",
      "             lambda x: x**3 + 1e-4*x, # Almost null gradient at the root\n",
      "             lambda x: x+np.sin(2*x), # Non monotonous function\n",
      "             lambda x: 1.1*x+np.sin(4*x), # Fonction with several local maxima\n",
      "            )\n",
      "random_a = -1.3 + np.random.random(size=2)\n",
      "random_b =   .3 + np.random.random(size=2)\n",
      "#param_grid = product(FUNCTIONS, random_a, random_b)\n",
      "\n",
      "for optimizer in OPTIMIZERS: \n",
      "    param_grid = product(FUNCTIONS, random_a, random_b)\n",
      "    print sum(apply_optimizer(optimizer, a,b,c) for a,b,c in param_grid)"
     ],
     "language": "python",
     "metadata": {},
     "outputs": [
      {
       "output_type": "stream",
       "stream": "stdout",
       "text": [
        "229\n",
        "226\n",
        "294\n",
        "855\n"
       ]
      }
     ],
     "prompt_number": 50
    },
    {
     "cell_type": "markdown",
     "metadata": {},
     "source": [
      "Now it works! So in the original program I would reorder the param_grid inserting it inside the OPTIMIZER loop:"
     ]
    },
    {
     "cell_type": "code",
     "collapsed": false,
     "input": [
      "\"\"\"\n",
      "A script to compare different root-finding algorithms.\n",
      "\n",
      "This version of the script is buggy and does not execute. It is your task\n",
      "to find an fix these bugs.\n",
      "\n",
      "The output of the script sould look like:\n",
      "\n",
      "    Benching 1D root-finder optimizers from scipy.optimize:\n",
      "                brenth:   604678 total function calls\n",
      "                brentq:   594454 total function calls\n",
      "                ridder:   778394 total function calls\n",
      "                bisect:  2148380 total function calls\n",
      "\"\"\"\n",
      "from itertools import product\n",
      "\n",
      "import numpy as np\n",
      "from scipy import optimize\n",
      "\n",
      "FUNCTIONS = (np.tan,  # Dilating map\n",
      "             np.tanh, # Contracting map\n",
      "             lambda x: x**3 + 1e-4*x, # Almost null gradient at the root\n",
      "             lambda x: x+np.sin(2*x), # Non monotonous function\n",
      "             lambda x: 1.1*x+np.sin(4*x), # Fonction with several local maxima\n",
      "            )\n",
      "\n",
      "OPTIMIZERS = (optimize.brenth, optimize.brentq, optimize.ridder,\n",
      "              optimize.bisect)\n",
      "\n",
      "\n",
      "def apply_optimizer(optimizer, func, a, b):\n",
      "    \"\"\" Return the number of function calls given an root-finding optimizer, \n",
      "        a function and upper and lower bounds.\n",
      "    \"\"\"\n",
      "    return optimizer(func, a, b, full_output=True)[1].function_calls\n",
      "\n",
      "\n",
      "def bench_optimizer(optimizer, param_grid):\n",
      "    \"\"\" Find roots for all the functions, and upper and lower bounds\n",
      "        given and return the total number of function calls.\n",
      "    \"\"\"\n",
      "    return sum(apply_optimizer(optimizer, func, a, b)\n",
      "               for func, a, b in param_grid)\n",
      "\n",
      "\n",
      "def compare_optimizers(optimizers):\n",
      "    \"\"\" Compare all the optimizers given on a grid of a few different\n",
      "        functions all admitting a signle root in zero and a upper and\n",
      "        lower bounds.\n",
      "    \"\"\"\n",
      "    random_a = -1.3 + np.random.random(size=100)\n",
      "    random_b =   .3 + np.random.random(size=100)\n",
      "    #print param_grid\n",
      "    #print FUNCTIONS\n",
      "    print \"Benching 1D root-finder optimizers from scipy.optimize:\"\n",
      "    for optimizer in OPTIMIZERS:\n",
      "         param_grid = product(FUNCTIONS, random_a, random_b)\n",
      "         print '% 20s: % 8i total function calls' % (\n",
      "                    optimizer.__name__, \n",
      "                    bench_optimizer(optimizer, param_grid)\n",
      "                )\n",
      "\n",
      "\n",
      "if __name__ == '__main__':\n",
      "    compare_optimizers(OPTIMIZERS)"
     ],
     "language": "python",
     "metadata": {},
     "outputs": [
      {
       "output_type": "stream",
       "stream": "stdout",
       "text": [
        "Benching 1D root-finder optimizers from scipy.optimize:\n",
        "              brenth:   600157 total function calls"
       ]
      },
      {
       "output_type": "stream",
       "stream": "stdout",
       "text": [
        "\n",
        "              brentq:   589586 total function calls"
       ]
      },
      {
       "output_type": "stream",
       "stream": "stdout",
       "text": [
        "\n",
        "              ridder:   770874 total function calls"
       ]
      },
      {
       "output_type": "stream",
       "stream": "stdout",
       "text": [
        "\n",
        "              bisect:  2145075 total function calls"
       ]
      },
      {
       "output_type": "stream",
       "stream": "stdout",
       "text": [
        "\n"
       ]
      }
     ],
     "prompt_number": 51
    },
    {
     "cell_type": "markdown",
     "metadata": {},
     "source": [
      "Now it is working! So we can easily compare which optimizer is most efficient in fitting this set of functions."
     ]
    },
    {
     "cell_type": "markdown",
     "metadata": {},
     "source": [
      "Summary:\n",
      "\n",
      "1) first I looked for syntax errors: missing brackets, erroneous commas, etc. \n",
      "\n",
      "2) now that the program compiled, but returned wrong values, I sought for semantic errors, attempting to understand how each component of the program works \n",
      "\n",
      "3) I found that the main problem lied in a way in which a function product of iter_tools was used : once executed it does not store it's values , so it has to be executed each time its values are going to be used |"
     ]
    },
    {
     "cell_type": "code",
     "collapsed": false,
     "input": [],
     "language": "python",
     "metadata": {},
     "outputs": []
    }
   ],
   "metadata": {}
  }
 ]
}