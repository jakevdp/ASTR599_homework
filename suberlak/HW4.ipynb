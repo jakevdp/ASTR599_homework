{
 "metadata": {
  "name": ""
 },
 "nbformat": 3,
 "nbformat_minor": 0,
 "worksheets": [
  {
   "cells": [
    {
     "cell_type": "markdown",
     "metadata": {},
     "source": [
      "**HW4 : PyFITS  in action **\n",
      "\n",
      "\"sketch code to find all files with header x, and add filter info to header, OR\"\n",
      "\n",
      "I chose to write some code to see what are the available fits files in the directory, open their headers, see which have a given header, and add some information to that header.\n",
      "\n",
      "Firstly check what FITS files are present in the dir : I downloaded them from the Chandra website"
     ]
    },
    {
     "cell_type": "code",
     "collapsed": false,
     "input": [
      "import astropy.io.fits as fits\n",
      "import glob\n",
      "import os.path\n",
      "FitsFiles = glob.glob('./fits/*.fit*')\n",
      "print FitsFiles"
     ],
     "language": "python",
     "metadata": {},
     "outputs": [
      {
       "output_type": "stream",
       "stream": "stdout",
       "text": [
        "['./fits/30dor_med.fits', './fits/b1509_1700-3000.fits', './fits/cena_med_upd.fits', './fits/kepler_1700-2100eV.fits', './fits/m87_broadband.fits', './fits/n132d_0.75-7keV.fits', './fits/sgra_4700-8000_eV.fits', './fits/tycho_4100-6100eV.fits', './fits/vela_2.0-8.0_flux.fits']\n"
       ]
      }
     ],
     "prompt_number": 48
    },
    {
     "cell_type": "markdown",
     "metadata": {},
     "source": [
      "Now I iterate over all files in that directory, and for each file first I assign image and header values to variables ImageData, ImageHdr. Then I read the value of the 'date-obs' header, and I update this header adding the comment. I then remove the old file, and save my new file with that same name. Afterwards I read-in that data, and the header to which I added comment. I print them, and I compare them, just to make sure that they are identical, which means that my comment-update code is working. "
     ]
    },
    {
     "cell_type": "code",
     "collapsed": false,
     "input": [
      "for file in FitsFiles:\n",
      "    try:\n",
      "        ImageData, ImageHdr = fits.getdata(file, 0, header=True)\n",
      "        old_value = ImageHdr['date-obs'] \n",
      "        my_comment = 'Time at start of exposu'\n",
      "        ImageHdr.update('date-obs', old_value, comment = my_comment)\n",
      "        os.remove(file)\n",
      "        fits.writeto(file, ImageData, ImageHdr)\n",
      "        ImageData, ImageHdr = fits.getdata(file, 0, header=True)\n",
      "        print repr(my_comment), '\\n', repr(ImageHdr.comments['date-obs'])\n",
      "        if repr(ImageHdr.comments['date-obs']) == repr(my_comment) : print 'For', file, 'we have success: comments are identical' \n",
      "        else: print 'For',file,'something went wrong'\n",
      "    except IOError, e:\n",
      "        print e, \"try adding 'ignore_missing_end=True'\"\n",
      "    except KeyError, e:\n",
      "        print 'For', file, e, \"whoops!\""
     ],
     "language": "python",
     "metadata": {},
     "outputs": [
      {
       "output_type": "stream",
       "stream": "stdout",
       "text": [
        "'Time at start of exposu' \n",
        "'Time at start of exposu'\n",
        "For ./fits/30dor_med.fits we have success: comments are identical\n",
        "'Time at start of exposu'"
       ]
      },
      {
       "output_type": "stream",
       "stream": "stdout",
       "text": [
        " \n",
        "'Time at start of exposu'\n",
        "For ./fits/b1509_1700-3000.fits we have success: comments are identical\n",
        "'Time at start of exposu'"
       ]
      },
      {
       "output_type": "stream",
       "stream": "stdout",
       "text": [
        " \n",
        "'Time at start of exposu'\n",
        "For ./fits/cena_med_upd.fits we have success: comments are identical\n",
        "'Time at start of exposu'"
       ]
      },
      {
       "output_type": "stream",
       "stream": "stdout",
       "text": [
        " \n",
        "'Time at start of exposu'\n",
        "For ./fits/kepler_1700-2100eV.fits we have success: comments are identical\n",
        "'Time at start of exposu'"
       ]
      },
      {
       "output_type": "stream",
       "stream": "stdout",
       "text": [
        " \n",
        "'Time at start of exposu'\n",
        "For ./fits/m87_broadband.fits we have success: comments are identical\n",
        "'Time at start of exposu'"
       ]
      },
      {
       "output_type": "stream",
       "stream": "stdout",
       "text": [
        " \n",
        "'Time at start of exposu'\n",
        "For ./fits/n132d_0.75-7keV.fits we have success: comments are identical\n",
        "'Time at start of exposu'"
       ]
      },
      {
       "output_type": "stream",
       "stream": "stdout",
       "text": [
        " \n",
        "'Time at start of exposu'\n",
        "For ./fits/sgra_4700-8000_eV.fits we have success: comments are identical\n",
        "'Time at start of exposu'"
       ]
      },
      {
       "output_type": "stream",
       "stream": "stdout",
       "text": [
        " \n",
        "'Time at start of exposu'\n",
        "For ./fits/tycho_4100-6100eV.fits we have success: comments are identical\n",
        "'Time at start of exposu'"
       ]
      },
      {
       "output_type": "stream",
       "stream": "stdout",
       "text": [
        " \n",
        "'Time at start of exposu'\n",
        "For ./fits/vela_2.0-8.0_flux.fits we have success: comments are identical\n"
       ]
      }
     ],
     "prompt_number": 67
    },
    {
     "cell_type": "markdown",
     "metadata": {},
     "source": [
      "Thus my code opens files, updates those which have a defined header with a comment, and compares whether the updated comment is the one that was actually asked for. "
     ]
    }
   ],
   "metadata": {}
  }
 ]
}