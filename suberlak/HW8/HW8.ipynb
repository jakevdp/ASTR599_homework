{
 "metadata": {
  "name": "HW8"
 },
 "nbformat": 3,
 "nbformat_minor": 0,
 "worksheets": [
  {
   "cells": [
    {
     "cell_type": "markdown",
     "metadata": {},
     "source": "***HOMEWORK 8 :  create a module containing a ``Cosmology()`` class***\n\nI created the necessary files (including the main workhorse : cosmology.py ), and in docstrings I formulated the relevant documentation, all based on the David Hogg (2000) paper. It passes all the tests, as well as tests I included in docstrings:\n    \n\n    nosetests -v --with-doctest\n    \n    \n   \n    Doctest: cosmology.cosmology.Cosmology ... ok\n    Doctest: cosmology.cosmology.Cosmology.DA ... ok\n    Doctest: cosmology.cosmology.Cosmology.DC ... ok\n    Doctest: cosmology.cosmology.Cosmology.DL ... ok\n    Doctest: cosmology.cosmology.Cosmology.DM ... ok\n    Doctest: cosmology.cosmology.Cosmology.mu ... ok\n    Test Comoving Distance ... ok\n    Test Comoving Distance ... ok\n    Test Comoving Distance ... ok\n    Test Comoving Distance ... ok\n    Test Comoving Distance ... ok\n    Test Comoving Distance ... ok\n    Test Comoving Distance ... ok\n    Test Comoving Distance ... ok\n    Test Comoving Distance ... ok\n    Test Comoving Distance ... ok\n    Test Comoving Distance ... ok\n    Test Comoving Distance ... ok\n    Test Comoving Distance ... ok\n    Test Comoving Distance ... ok\n    Test Comoving Distance ... ok\n    Test Comoving Distance ... ok\n    Test Comoving Distance ... ok\n    Test Comoving Distance ... ok\n    Test Transverse Comoving Distance ... ok\n    Test Transverse Comoving Distance ... ok\n    Test Transverse Comoving Distance ... ok\n    Test Transverse Comoving Distance ... ok\n    Test Transverse Comoving Distance ... ok\n    Test Transverse Comoving Distance ... ok\n    Test Transverse Comoving Distance ... ok\n    Test Transverse Comoving Distance ... ok\n    Test Transverse Comoving Distance ... ok\n    Test Transverse Comoving Distance ... ok\n    Test Transverse Comoving Distance ... ok\n    Test Transverse Comoving Distance ... ok\n    Test Transverse Comoving Distance ... ok\n    Test Transverse Comoving Distance ... ok\n    Test Transverse Comoving Distance ... ok\n    Test Transverse Comoving Distance ... ok\n    Test Transverse Comoving Distance ... ok\n    Test Transverse Comoving Distance ... ok\n    Test Angular Diameter Distance ... ok\n    Test Angular Diameter Distance ... ok\n    Test Angular Diameter Distance ... ok\n    Test Angular Diameter Distance ... ok\n    Test Angular Diameter Distance ... ok\n    Test Angular Diameter Distance ... ok\n    Test Angular Diameter Distance ... ok\n    Test Angular Diameter Distance ... ok\n    Test Angular Diameter Distance ... ok\n    Test Angular Diameter Distance ... ok\n    Test Angular Diameter Distance ... ok\n    Test Angular Diameter Distance ... ok\n    Test Angular Diameter Distance ... ok\n    Test Angular Diameter Distance ... ok\n    Test Angular Diameter Distance ... ok\n    Test Angular Diameter Distance ... ok\n    Test Angular Diameter Distance ... ok\n    Test Angular Diameter Distance ... ok\n    Test Luminosity Distance ... ok\n    Test Luminosity Distance ... ok\n    Test Luminosity Distance ... ok\n    Test Luminosity Distance ... ok\n    Test Luminosity Distance ... ok\n    Test Luminosity Distance ... ok\n    Test Luminosity Distance ... ok\n    Test Luminosity Distance ... ok\n    Test Luminosity Distance ... ok\n    Test Luminosity Distance ... ok\n    Test Luminosity Distance ... ok\n    Test Luminosity Distance ... ok\n    Test Luminosity Distance ... ok\n    Test Luminosity Distance ... ok\n    Test Luminosity Distance ... ok\n    Test Luminosity Distance ... ok\n    Test Luminosity Distance ... ok\n    Test Luminosity Distance ... ok\n    Test Distance Modulus ... ok\n    Test Distance Modulus ... ok\n    Test Distance Modulus ... ok\n    Test Distance Modulus ... ok\n    Test Distance Modulus ... ok\n    Test Distance Modulus ... ok\n    Test Distance Modulus ... ok\n    Test Distance Modulus ... ok\n    Test Distance Modulus ... ok\n    Test Distance Modulus ... ok\n    Test Distance Modulus ... ok\n    Test Distance Modulus ... ok\n    Test Distance Modulus ... ok\n    Test Distance Modulus ... ok\n    Test Distance Modulus ... ok\n    Test Distance Modulus ... ok\n    Test Distance Modulus ... ok\n    Test Distance Modulus ... ok\n    \n    ----------------------------------------------------------------------\n    Ran 96 tests in 0.310s\n    \n    OK\n"
    },
    {
     "cell_type": "code",
     "collapsed": false,
     "input": "",
     "language": "python",
     "metadata": {},
     "outputs": []
    }
   ],
   "metadata": {}
  }
 ]
}