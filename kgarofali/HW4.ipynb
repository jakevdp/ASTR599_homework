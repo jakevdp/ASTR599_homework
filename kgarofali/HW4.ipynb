{
 "metadata": {
  "name": ""
 },
 "nbformat": 3,
 "nbformat_minor": 0,
 "worksheets": [
  {
   "cells": [
    {
     "cell_type": "markdown",
     "metadata": {},
     "source": [
      "Here is quick script to make a fits file of de Vaucouleurs galaxy from a Jaffe profile. The Jaffe profile is given \n",
      "by the following expression: rho(r) = (rho_o / 4pi)*(r / r_o)^-2 * (1 + r/r_o)^-2, where r_o and rho_o can be varied to fit an observed density. "
     ]
    },
    {
     "cell_type": "code",
     "collapsed": false,
     "input": [
      "import astropy.io.fits as fits\n",
      "import numpy as np\n",
      "x,y,z = np.ogrid[-100:100, -100:100, -100:100] # make a grid of points in cartesian space for our galaxy\n",
      "\n",
      "# pick some arbitrary values for our rho_o and r_o in jaffe profile\n",
      "rho_o = 4. \n",
      "r_o = 2.\n",
      "\n",
      "# build up the density profile from our grid of points\n",
      "jaffe = (rho_o / np.pi*4.)*(np.sqrt(x**2 + y**2 + z**2) / r_o)**-2 * (1. + (np.sqrt(x**2 + y**2 + z**2)/ r_o))**-2\n",
      "\n",
      "# now write it to a fits file! open in ds9 and enjoy.\n",
      "hdu = fits.PrimaryHDU(jaffe)\n",
      "hdu.writeto('deVauc.fits')\n"
     ],
     "language": "python",
     "metadata": {},
     "outputs": [
      {
       "output_type": "stream",
       "stream": "stdout",
       "text": [
        "WARNING: RuntimeWarning: divide by zero encountered in power [unknown]\n"
       ]
      }
     ],
     "prompt_number": 1
    },
    {
     "cell_type": "code",
     "collapsed": false,
     "input": [],
     "language": "python",
     "metadata": {},
     "outputs": []
    }
   ],
   "metadata": {}
  }
 ]
}