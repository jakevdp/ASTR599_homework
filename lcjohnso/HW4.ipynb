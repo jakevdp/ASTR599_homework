{
 "metadata": {
  "name": ""
 },
 "nbformat": 3,
 "nbformat_minor": 0,
 "worksheets": [
  {
   "cells": [
    {
     "cell_type": "markdown",
     "metadata": {},
     "source": [
      "#HW4: FITS Work - Headers\n",
      "\n",
      "For HW4, I have chosen to implement a FITS-related workflow I wrote in IDL into Python.  My goal: take a large image and split up into 28 subimages with accompanying headers."
     ]
    },
    {
     "cell_type": "code",
     "collapsed": false,
     "input": [
      "from astropy.io import fits\n",
      "import numpy as np\n",
      "from astropy import wcs"
     ],
     "language": "python",
     "metadata": {},
     "outputs": [],
     "prompt_number": 1
    },
    {
     "cell_type": "markdown",
     "metadata": {},
     "source": [
      "Import vertex data: defines four corners of subimages"
     ]
    },
    {
     "cell_type": "code",
     "collapsed": false,
     "input": [
      "data = np.genfromtxt('HW4_data/vertices_4x7-100.dat',dtype=int,names=['xmin','xmax','ymin','ymax'])"
     ],
     "language": "python",
     "metadata": {},
     "outputs": [],
     "prompt_number": 2
    },
    {
     "cell_type": "markdown",
     "metadata": {},
     "source": [
      "Import full image"
     ]
    },
    {
     "cell_type": "code",
     "collapsed": false,
     "input": [
      "hdulist = fits.open('HW4_data/B21-F01_F475W.fits')\n",
      "img = hdulist[0].data\n",
      "head = hdulist[0].header"
     ],
     "language": "python",
     "metadata": {},
     "outputs": [],
     "prompt_number": 3
    },
    {
     "cell_type": "markdown",
     "metadata": {},
     "source": [
      "Extract necessary parts of header"
     ]
    },
    {
     "cell_type": "code",
     "collapsed": false,
     "input": [
      "goodkeys=['SIMPLE', 'BITPIX', 'NAXIS', 'NAXIS1', 'NAXIS2','WCSAXES', 'CRPIX1', 'CRPIX2', 'CRVAL1', 'CRVAL2', 'CTYPE1', 'CTYPE2', 'CD1_1', 'CD1_2', 'CD2_1', 'CD2_2']\n",
      "nhead=fits.header.Header(cards=[k for k in head.cards if k[0] in goodkeys])"
     ],
     "language": "python",
     "metadata": {},
     "outputs": [],
     "prompt_number": 4
    },
    {
     "cell_type": "markdown",
     "metadata": {},
     "source": [
      "Iterate through for each of the 725x500 pixel subimages: cutout data and write new FITS image with proper header"
     ]
    },
    {
     "cell_type": "code",
     "collapsed": false,
     "input": [
      "w=wcs.WCS(head)\n",
      "\n",
      "nsub = len(data['xmin'])\n",
      "for i in range(0,nsub):\n",
      "    shead = nhead.copy()\n",
      "    simg = img[data['ymin'][i]:data['ymax'][i]+1,data['xmin'][i]:data['xmax'][i]+1]\n",
      "    cntr = [[np.mean([data['xmin'][i],data['xmax'][i]]), np.mean([data['ymin'][i],data['ymax'][i]])]]\n",
      "    radec= w.wcs_pix2world(cntr, 1)\n",
      "    shead['NAXIS1']=simg.shape[1]\n",
      "    shead['NAXIS2']=simg.shape[0]\n",
      "    shead['CRPIX1']=np.mean([data['xmin'][i],data['xmax'][i]]) - data['xmin'][i]\n",
      "    shead['CRPIX2']=np.mean([data['ymin'][i],data['ymax'][i]]) - data['ymin'][i]\n",
      "    shead['CRVAL1']=radec[0,0]\n",
      "    shead['CRVAL2']=radec[0,1]\n",
      "    fits.writeto('B21-F01_{0}.fits'.format(i+1), simg, shead)"
     ],
     "language": "python",
     "metadata": {},
     "outputs": [],
     "prompt_number": 5
    }
   ],
   "metadata": {}
  }
 ]
}