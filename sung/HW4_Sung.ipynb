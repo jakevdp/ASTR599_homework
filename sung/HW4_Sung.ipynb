{
 "metadata": {
  "name": ""
 },
 "nbformat": 3,
 "nbformat_minor": 0,
 "worksheets": [
  {
   "cells": [
    {
     "cell_type": "code",
     "collapsed": false,
     "input": [
      "#Hi Jaffe\n",
      "import numpy as np\n",
      "import astropy.io.fits as fits\n",
      "import matplotlib.pyplot as plt\n",
      "%pylab inline\n",
      "%matplotlib inline"
     ],
     "language": "python",
     "metadata": {},
     "outputs": [
      {
       "output_type": "stream",
       "stream": "stdout",
       "text": [
        "Populating the interactive namespace from numpy and matplotlib\n"
       ]
      }
     ],
     "prompt_number": 12
    },
    {
     "cell_type": "code",
     "collapsed": false,
     "input": [
      "#Template given in lecture\n",
      "import numpy as np\n",
      "# this is goofy--but it makes a visible pattern!\n",
      "x, y = np.ogrid[-50:50, -50:50]\n",
      "x.shape, y.shape\n",
      "n = np.sqrt(x**2 + y**2)\n",
      "n.shape # we have a 2D array!\n",
      "hdu = fits.PrimaryHDU(n)\n",
      "hdu.writeto('DarkStar.fits')"
     ],
     "language": "python",
     "metadata": {},
     "outputs": [],
     "prompt_number": 10
    },
    {
     "cell_type": "code",
     "collapsed": false,
     "input": [
      "# reference for Jaffe profile\n",
      "# http://en.wikipedia.org/wiki/Jaffe_profile"
     ],
     "language": "python",
     "metadata": {},
     "outputs": [],
     "prompt_number": 18
    },
    {
     "cell_type": "code",
     "collapsed": false,
     "input": [
      "#Here we go\n",
      "x, y = np.ogrid[-50:50, -50:50]\n",
      "x.shape, y.shape\n",
      "r = np.sqrt(x**2 + y**2)\n",
      "\n",
      "# Jaffe profile \n",
      "r0 = 100 # dont know what it should be actually... I dont know Jaffe, too. Sorry Jaffe\n",
      "p0 = 1.0\n",
      "jaffe = (p0/(4.0*np.pi)) * ((np.sqrt(x**2.0 + y**2.0)/r0)**-2.0) * ((1.0+np.sqrt(x**2.0+y**2.0)/r0)**-2.0)\n",
      "\n",
      "# save function into fit\n",
      "hdu = fits.PrimaryHDU(rho)\n",
      "hdu.writeto('de_Vaucouleurs_galaxy .fits')"
     ],
     "language": "python",
     "metadata": {},
     "outputs": [],
     "prompt_number": 21
    },
    {
     "cell_type": "code",
     "collapsed": false,
     "input": [],
     "language": "python",
     "metadata": {},
     "outputs": []
    }
   ],
   "metadata": {}
  }
 ]
}