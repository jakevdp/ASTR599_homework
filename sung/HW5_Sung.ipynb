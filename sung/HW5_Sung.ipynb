{
 "metadata": {
  "name": ""
 },
 "nbformat": 3,
 "nbformat_minor": 0,
 "worksheets": [
  {
   "cells": [
    {
     "cell_type": "code",
     "collapsed": false,
     "input": [
      "\"\"\"\n",
      "A script to compare different root-finding algorithms.\n",
      "\n",
      "This version of the script is buggy and does not execute. It is your task\n",
      "to find an fix these bugs.\n",
      "\n",
      "The output of the script sould look like:\n",
      "\n",
      "    Benching 1D root-finder optimizers from scipy.optimize:\n",
      "                brenth:   604678 total function calls\n",
      "                brentq:   594454 total function calls\n",
      "                ridder:   778394 total function calls\n",
      "                bisect:  2148380 total function calls\n",
      "\"\"\"\n",
      "from itertools import product\n",
      "\n",
      "import numpy as np\n",
      "from scipy import optimize\n",
      "\n",
      "FUNCTIONS = (np.tan,  # Dilating map\n",
      "             np.tanh, # Contracting map\n",
      "             lambda x: x**3 + 1e-4*x, # Almost null gradient at the root\n",
      "             lambda x: x+np.sin(2*x), # Non monotonous function\n",
      "             lambda x: 1.1*x+np.sin(4*x), # Fonction with several local maxima\n",
      "            )\n",
      "\n",
      "#OPTIMIZERS = (optimize.brenth, optimize.brentq, optimize.ridder,\n",
      "#              optimize.bisect)\n",
      "\n",
      "\n",
      "def apply_optimizer(optimizer, func, a, b):\n",
      "    \"\"\" Return the number of function calls given an root-finding optimizer, \n",
      "        a function and upper and lower bounds.\n",
      "    \"\"\"\n",
      "    return optimizer(func, a, b, full_output=True)[1].function_calls,\n",
      "\n",
      "\n",
      "def bench_optimizer(optimizer, param_grid):\n",
      "    \"\"\" Find roots for all the functions, and upper and lower bounds\n",
      "        given and return the total number of function calls.\n",
      "    \"\"\"\n",
      "    return sum(apply_optimizer(optimizer, func, a, b)\n",
      "               for func, a, b in param_grid)\n",
      "\n",
      "\n",
      "def compare_optimizers(optimizers):\n",
      "    \"\"\" Compare all the optimizers given on a grid of a few different\n",
      "        functions all admitting a signle root in zero and a upper and\n",
      "        lower bounds.\n",
      "    \"\"\"\n",
      "    random_a = -1.3 + np.random.random(size=100)\n",
      "    random_b =   .3 + np.random.random(size=100)\n",
      "    param_grid = product(FUNCTIONS, random_a, random_b)\n",
      "    print \"Benching 1D root-finder optimizers from scipy.optimize:\"\n",
      "    for optimizer in OPTIMIZERS:\n",
      "        print '% 20s: % 8i total function calls' % (\n",
      "                    optimizer.__name__, \n",
      "                    bench_optimizer(optimizer, param_grid)\n",
      "                )\n",
      "\n",
      "\n",
      "if __name__ == '__main__':\n",
      "    compare_optimizers(OPTIMIZERS)"
     ],
     "language": "python",
     "metadata": {},
     "outputs": [
      {
       "ename": "TypeError",
       "evalue": "unsupported operand type(s) for +: 'int' and 'tuple'",
       "output_type": "pyerr",
       "traceback": [
        "\u001b[1;31m---------------------------------------------------------------------------\u001b[0m\n\u001b[1;31mTypeError\u001b[0m                                 Traceback (most recent call last)",
        "\u001b[1;32m<ipython-input-39-3a9530cbddd7>\u001b[0m in \u001b[0;36m<module>\u001b[1;34m()\u001b[0m\n\u001b[0;32m     61\u001b[0m \u001b[1;33m\u001b[0m\u001b[0m\n\u001b[0;32m     62\u001b[0m \u001b[1;32mif\u001b[0m \u001b[0m__name__\u001b[0m \u001b[1;33m==\u001b[0m \u001b[1;34m'__main__'\u001b[0m\u001b[1;33m:\u001b[0m\u001b[1;33m\u001b[0m\u001b[0m\n\u001b[1;32m---> 63\u001b[1;33m     \u001b[0mcompare_optimizers\u001b[0m\u001b[1;33m(\u001b[0m\u001b[0mOPTIMIZERS\u001b[0m\u001b[1;33m)\u001b[0m\u001b[1;33m\u001b[0m\u001b[0m\n\u001b[0m",
        "\u001b[1;32m<ipython-input-39-3a9530cbddd7>\u001b[0m in \u001b[0;36mcompare_optimizers\u001b[1;34m(optimizers)\u001b[0m\n\u001b[0;32m     56\u001b[0m         print '% 20s: % 8i total function calls' % (\n\u001b[0;32m     57\u001b[0m                     \u001b[0moptimizer\u001b[0m\u001b[1;33m.\u001b[0m\u001b[0m__name__\u001b[0m\u001b[1;33m,\u001b[0m\u001b[1;33m\u001b[0m\u001b[0m\n\u001b[1;32m---> 58\u001b[1;33m                     \u001b[0mbench_optimizer\u001b[0m\u001b[1;33m(\u001b[0m\u001b[0moptimizer\u001b[0m\u001b[1;33m,\u001b[0m \u001b[0mparam_grid\u001b[0m\u001b[1;33m)\u001b[0m\u001b[1;33m\u001b[0m\u001b[0m\n\u001b[0m\u001b[0;32m     59\u001b[0m                 )\n\u001b[0;32m     60\u001b[0m \u001b[1;33m\u001b[0m\u001b[0m\n",
        "\u001b[1;32m<ipython-input-39-3a9530cbddd7>\u001b[0m in \u001b[0;36mbench_optimizer\u001b[1;34m(optimizer, param_grid)\u001b[0m\n\u001b[0;32m     41\u001b[0m     \"\"\"\n\u001b[0;32m     42\u001b[0m     return sum(apply_optimizer(optimizer, func, a, b)\n\u001b[1;32m---> 43\u001b[1;33m                for func, a, b in param_grid)\n\u001b[0m\u001b[0;32m     44\u001b[0m \u001b[1;33m\u001b[0m\u001b[0m\n\u001b[0;32m     45\u001b[0m \u001b[1;33m\u001b[0m\u001b[0m\n",
        "\u001b[1;31mTypeError\u001b[0m: unsupported operand type(s) for +: 'int' and 'tuple'"
       ]
      },
      {
       "output_type": "stream",
       "stream": "stdout",
       "text": [
        "Benching 1D root-finder optimizers from scipy.optimize:\n"
       ]
      }
     ],
     "prompt_number": 39
    },
    {
     "cell_type": "code",
     "collapsed": false,
     "input": [
      "#Type Error! \n",
      "#The error message indicates line63, 58, 43 are messed up.\n",
      "#line63 --> compare_optimizers(OPTIMIZERS)\n",
      "#line 58 --> bench_optimizer(optimizer, param_grid)\n",
      "#line 43 --> for func, a, b in param_grid)\n",
      "#TypeError: unsupported operand type(s) for +: 'int' and 'tuple'\n",
      "\n",
      "\n",
      "#Let's see OPTIMIZERS and FUNCTION\n",
      "print OPTIMIZERS[0], 'Opimizers'\n",
      "print OPTIMIZERS[1], 'Opimizers'\n",
      "print OPTIMIZERS[2], 'Opimizers'\n",
      "print OPTIMIZERS[3], 'Opimizers'\n",
      "\n",
      "print FUNCTIONS[0], \"Function\"\n",
      "print FUNCTIONS[1], \"Function\"\n",
      "print FUNCTIONS[2], \"Function\"\n",
      "print FUNCTIONS[3], \"Function\"\n",
      "print FUNCTIONS[4], \"Function\""
     ],
     "language": "python",
     "metadata": {},
     "outputs": [
      {
       "output_type": "stream",
       "stream": "stdout",
       "text": [
        "<function brenth at 0x2a88668> Opimizers\n",
        "<function brentq at 0x2a885f0> Opimizers\n",
        "<function ridder at 0x2a88578> Opimizers\n",
        "<function bisect at 0x2a88500> Opimizers\n",
        "<ufunc 'tan'> Function\n",
        "<ufunc 'tanh'> Function\n",
        "<function <lambda> at 0x2b359b0> Function\n",
        "<function <lambda> at 0x2b35a28> Function\n",
        "<function <lambda> at 0x2b35e60> Function\n"
       ]
      }
     ],
     "prompt_number": 40
    },
    {
     "cell_type": "code",
     "collapsed": false,
     "input": [
      "#Let's see optimizer, and param_grid\n",
      "print optimizer \n",
      "print param_grid\n",
      "\n",
      "#oh well, param_grid is not defined!?"
     ],
     "language": "python",
     "metadata": {},
     "outputs": [
      {
       "ename": "NameError",
       "evalue": "name 'param_grid' is not defined",
       "output_type": "pyerr",
       "traceback": [
        "\u001b[1;31m---------------------------------------------------------------------------\u001b[0m\n\u001b[1;31mNameError\u001b[0m                                 Traceback (most recent call last)",
        "\u001b[1;32m<ipython-input-41-c2b77785e56c>\u001b[0m in \u001b[0;36m<module>\u001b[1;34m()\u001b[0m\n\u001b[0;32m      1\u001b[0m \u001b[1;31m#Let's see optimizer, and param_grid\u001b[0m\u001b[1;33m\u001b[0m\u001b[1;33m\u001b[0m\u001b[0m\n\u001b[0;32m      2\u001b[0m \u001b[1;32mprint\u001b[0m \u001b[0moptimizer\u001b[0m\u001b[1;33m\u001b[0m\u001b[0m\n\u001b[1;32m----> 3\u001b[1;33m \u001b[1;32mprint\u001b[0m \u001b[0mparam_grid\u001b[0m\u001b[1;33m\u001b[0m\u001b[0m\n\u001b[0m\u001b[0;32m      4\u001b[0m \u001b[1;33m\u001b[0m\u001b[0m\n\u001b[0;32m      5\u001b[0m \u001b[1;31m#oh well, param_grid is not defined!?\u001b[0m\u001b[1;33m\u001b[0m\u001b[1;33m\u001b[0m\u001b[0m\n",
        "\u001b[1;31mNameError\u001b[0m: name 'param_grid' is not defined"
       ]
      },
      {
       "output_type": "stream",
       "stream": "stdout",
       "text": [
        "(<function brenth at 0x2a88668>, <function brentq at 0x2a885f0>, <function ridder at 0x2a88578>, <function bisect at 0x2a88500>)\n"
       ]
      }
     ],
     "prompt_number": 41
    },
    {
     "cell_type": "code",
     "collapsed": false,
     "input": [
      "#While carefully reading the script, I found two silly typos (uninvited comma!)\n",
      "#1 return optimizer(func, a, b, full_output=True)[1].function_calls,\n",
      "#2 lambda x: 1.1*x+np.sin(4*x),"
     ],
     "language": "python",
     "metadata": {},
     "outputs": [],
     "prompt_number": 42
    },
    {
     "cell_type": "code",
     "collapsed": false,
     "input": [
      "\"\"\"\n",
      "A script to compare different root-finding algorithms.\n",
      "\n",
      "This version of the script is buggy and does not execute. It is your task\n",
      "to find an fix these bugs.\n",
      "\n",
      "The output of the script sould look like:\n",
      "\n",
      "    Benching 1D root-finder optimizers from scipy.optimize:\n",
      "                brenth:   604678 total function calls\n",
      "                brentq:   594454 total function calls\n",
      "                ridder:   778394 total function calls\n",
      "                bisect:  2148380 total function calls\n",
      "\"\"\"\n",
      "from itertools import product\n",
      "\n",
      "import numpy as np\n",
      "from scipy import optimize\n",
      "\n",
      "FUNCTIONS = (np.tan,  # Dilating map\n",
      "             np.tanh, # Contracting map\n",
      "             lambda x: x**3 + 1e-4*x, # Almost null gradient at the root\n",
      "             lambda x: x+np.sin(2*x), # Non monotonous function\n",
      "             lambda x: 1.1*x+np.sin(4*x) # Fonction with several local maxima\n",
      "            )\n",
      "\n",
      "#OPTIMIZERS = (optimize.brenth, optimize.brentq, optimize.ridder,\n",
      "#              optimize.bisect)\n",
      "\n",
      "\n",
      "def apply_optimizer(optimizer, func, a, b):\n",
      "    \"\"\" Return the number of function calls given an root-finding optimizer, \n",
      "        a function and upper and lower bounds.\n",
      "    \"\"\"\n",
      "    return optimizer(func, a, b, full_output=True)[1].function_calls\n",
      "\n",
      "\n",
      "def bench_optimizer(optimizer, param_grid):\n",
      "    \"\"\" Find roots for all the functions, and upper and lower bounds\n",
      "        given and return the total number of function calls.\n",
      "    \"\"\"\n",
      "    return sum(apply_optimizer(optimizer, func, a, b)\n",
      "               for func, a, b in param_grid)\n",
      "\n",
      "\n",
      "def compare_optimizers(optimizers):\n",
      "    \"\"\" Compare all the optimizers given on a grid of a few different\n",
      "        functions all admitting a signle root in zero and a upper and\n",
      "        lower bounds.\n",
      "    \"\"\"\n",
      "    random_a = -1.3 + np.random.random(size=100)\n",
      "    random_b =   .3 + np.random.random(size=100)\n",
      "    param_grid = product(FUNCTIONS, random_a, random_b)\n",
      "    print \"Benching 1D root-finder optimizers from scipy.optimize:\"\n",
      "    for optimizer in OPTIMIZERS:\n",
      "        print '% 20s: % 8i total function calls' % (\n",
      "                    optimizer.__name__, \n",
      "                    bench_optimizer(optimizer, param_grid)\n",
      "                )\n",
      "\n",
      "\n",
      "if __name__ == '__main__':\n",
      "    compare_optimizers(OPTIMIZERS)"
     ],
     "language": "python",
     "metadata": {},
     "outputs": [
      {
       "output_type": "stream",
       "stream": "stdout",
       "text": [
        "Benching 1D root-finder optimizers from scipy.optimize:\n",
        "              brenth:   607826 total function calls"
       ]
      },
      {
       "output_type": "stream",
       "stream": "stdout",
       "text": [
        "\n",
        "              brentq:        0 total function calls\n",
        "              ridder:        0 total function calls\n",
        "              bisect:        0 total function calls\n"
       ]
      }
     ],
     "prompt_number": 54
    },
    {
     "cell_type": "code",
     "collapsed": false,
     "input": [
      "#Now we have to define param_grid correctly\n",
      "#total function calls can't be zero!\n",
      "\n",
      "random_a = -1.3 + np.random.random(size=100)\n",
      "random_b =   .3 + np.random.random(size=100)\n",
      "param_grid = product(FUNCTIONS, random_a, random_b)\n",
      "print param_grid\n",
      "\n",
      "#it seems like param_grid becomes empty so we might need to use for loop or assign individually?"
     ],
     "language": "python",
     "metadata": {},
     "outputs": [
      {
       "output_type": "stream",
       "stream": "stdout",
       "text": [
        "<itertools.product object at 0x2b61870>\n"
       ]
      }
     ],
     "prompt_number": 56
    },
    {
     "cell_type": "code",
     "collapsed": false,
     "input": [
      "param_grid = product(FUNCTIONS, random_a, random_b)\n",
      "param_grid = product(FUNCTIONS, random_a, random_b)\n",
      "param_grid = product(FUNCTIONS, random_a, random_b)\n",
      "param_grid = product(FUNCTIONS, random_a, random_b)\n",
      "\n",
      "for i in range(4):\n",
      "    print bench_optimizer(OPTIMIZERS[i], param_grid), \"print all after\""
     ],
     "language": "python",
     "metadata": {},
     "outputs": [
      {
       "output_type": "stream",
       "stream": "stdout",
       "text": [
        "602550 for looping\n",
        "0 for looping\n",
        "0 for looping\n",
        "0 for looping\n"
       ]
      }
     ],
     "prompt_number": 68
    },
    {
     "cell_type": "code",
     "collapsed": false,
     "input": [
      "param_grid = product(FUNCTIONS, random_a, random_b)\n",
      "print bench_optimizer(OPTIMIZERS[0], param_grid), \"print every step\"\n",
      "param_grid = product(FUNCTIONS, random_a, random_b)\n",
      "print bench_optimizer(OPTIMIZERS[1], param_grid)\n",
      "param_grid = product(FUNCTIONS, random_a, random_b)\n",
      "print bench_optimizer(OPTIMIZERS[2], param_grid)\n",
      "param_grid = product(FUNCTIONS, random_a, random_b)\n",
      "print bench_optimizer(OPTIMIZERS[3], param_grid)"
     ],
     "language": "python",
     "metadata": {},
     "outputs": [
      {
       "output_type": "stream",
       "stream": "stdout",
       "text": [
        "602550 print every step\n",
        "592554"
       ]
      },
      {
       "output_type": "stream",
       "stream": "stdout",
       "text": [
        "\n",
        "770910"
       ]
      },
      {
       "output_type": "stream",
       "stream": "stdout",
       "text": [
        "\n",
        "2147300"
       ]
      },
      {
       "output_type": "stream",
       "stream": "stdout",
       "text": [
        "\n"
       ]
      }
     ],
     "prompt_number": 69
    },
    {
     "cell_type": "code",
     "collapsed": false,
     "input": [
      "# conlcusion\n",
      "# two typos\n",
      "# param_grid should be inside the for loop since it becomes empty after it runs\n",
      "# Final version is below:"
     ],
     "language": "python",
     "metadata": {},
     "outputs": [],
     "prompt_number": 70
    },
    {
     "cell_type": "code",
     "collapsed": false,
     "input": [
      "\"\"\"\n",
      "A script to compare different root-finding algorithms.\n",
      "\n",
      "This version of the script is buggy and does not execute. It is your task\n",
      "to find an fix these bugs.\n",
      "\n",
      "The output of the script sould look like:\n",
      "\n",
      "    Benching 1D root-finder optimizers from scipy.optimize:\n",
      "                brenth:   604678 total function calls\n",
      "                brentq:   594454 total function calls\n",
      "                ridder:   778394 total function calls\n",
      "                bisect:  2148380 total function calls\n",
      "\"\"\"\n",
      "from itertools import product\n",
      "\n",
      "import numpy as np\n",
      "from scipy import optimize\n",
      "\n",
      "FUNCTIONS = (np.tan,  # Dilating map\n",
      "             np.tanh, # Contracting map\n",
      "             lambda x: x**3 + 1e-4*x, # Almost null gradient at the root\n",
      "             lambda x: x+np.sin(2*x), # Non monotonous function\n",
      "             lambda x: 1.1*x+np.sin(4*x) # Fonction with several local maxima\n",
      "            )\n",
      "\n",
      "#OPTIMIZERS = (optimize.brenth, optimize.brentq, optimize.ridder,\n",
      "#              optimize.bisect)\n",
      "\n",
      "\n",
      "def apply_optimizer(optimizer, func, a, b):\n",
      "    \"\"\" Return the number of function calls given an root-finding optimizer, \n",
      "        a function and upper and lower bounds.\n",
      "    \"\"\"\n",
      "    return optimizer(func, a, b, full_output=True)[1].function_calls\n",
      "\n",
      "\n",
      "def bench_optimizer(optimizer, param_grid):\n",
      "    \"\"\" Find roots for all the functions, and upper and lower bounds\n",
      "        given and return the total number of function calls.\n",
      "    \"\"\"\n",
      "    return sum(apply_optimizer(optimizer, func, a, b)\n",
      "               for func, a, b in param_grid)\n",
      "\n",
      "\n",
      "def compare_optimizers(optimizers):\n",
      "    \"\"\" Compare all the optimizers given on a grid of a few different\n",
      "        functions all admitting a signle root in zero and a upper and\n",
      "        lower bounds.\n",
      "    \"\"\"\n",
      "    random_a = -1.3 + np.random.random(size=100)\n",
      "    random_b =   .3 + np.random.random(size=100)\n",
      "    \n",
      "    print \"Benching 1D root-finder optimizers from scipy.optimize:\"\n",
      "    for optimizer in OPTIMIZERS:\n",
      "        param_grid = product(FUNCTIONS, random_a, random_b)\n",
      "        print '% 20s: % 8i total function calls' % (\n",
      "                    optimizer.__name__, \n",
      "                    bench_optimizer(optimizer, param_grid)\n",
      "                )\n",
      "\n",
      "\n",
      "if __name__ == '__main__':\n",
      "    compare_optimizers(OPTIMIZERS)"
     ],
     "language": "python",
     "metadata": {},
     "outputs": [
      {
       "output_type": "stream",
       "stream": "stdout",
       "text": [
        "Benching 1D root-finder optimizers from scipy.optimize:\n",
        "              brenth:   602668 total function calls"
       ]
      },
      {
       "output_type": "stream",
       "stream": "stdout",
       "text": [
        "\n",
        "              brentq:   591529 total function calls"
       ]
      },
      {
       "output_type": "stream",
       "stream": "stdout",
       "text": [
        "\n",
        "              ridder:   770226 total function calls"
       ]
      },
      {
       "output_type": "stream",
       "stream": "stdout",
       "text": [
        "\n",
        "              bisect:  2147275 total function calls"
       ]
      },
      {
       "output_type": "stream",
       "stream": "stdout",
       "text": [
        "\n"
       ]
      }
     ],
     "prompt_number": 71
    },
    {
     "cell_type": "code",
     "collapsed": false,
     "input": [],
     "language": "python",
     "metadata": {},
     "outputs": []
    }
   ],
   "metadata": {}
  }
 ]
}