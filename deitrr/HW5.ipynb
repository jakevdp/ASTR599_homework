{
 "metadata": {
  "name": ""
 },
 "nbformat": 3,
 "nbformat_minor": 0,
 "worksheets": [
  {
   "cells": [
    {
     "cell_type": "heading",
     "level": 2,
     "metadata": {},
     "source": [
      "HW5 - Russell Deitrick"
     ]
    },
    {
     "cell_type": "heading",
     "level": 5,
     "metadata": {},
     "source": [
      "The script to be debugged:"
     ]
    },
    {
     "cell_type": "code",
     "collapsed": false,
     "input": [
      "\"\"\"\n",
      "A script to compare different root-finding algorithms.\n",
      "\n",
      "This version of the script is buggy and does not execute. It is your task\n",
      "to find an fix these bugs.\n",
      "\n",
      "The output of the script sould look like:\n",
      "\n",
      "    Benching 1D root-finder optimizers from scipy.optimize:\n",
      "                brenth:   604678 total function calls\n",
      "                brentq:   594454 total function calls\n",
      "                ridder:   778394 total function calls\n",
      "                bisect:  2148380 total function calls\n",
      "\"\"\"\n",
      "from itertools import product\n",
      "\n",
      "import numpy as np\n",
      "from scipy import optimize\n",
      "from copy import deepcopy\n",
      "\n",
      "FUNCTIONS = (np.tan,  # Dilating map\n",
      "             np.tanh, # Contracting map\n",
      "             lambda x: x**3 + 1e-4*x, # Almost null gradient at the root\n",
      "             lambda x: x+np.sin(2*x), # Non monotonous function\n",
      "             lambda x: 1.1*x+np.sin(4*x), # Fonction with several local maxima\n",
      "            )\n",
      "\n",
      "OPTIMIZERS = (optimize.brenth, optimize.brentq, optimize.ridder,\n",
      "              optimize.bisect)\n",
      "\n",
      "\n",
      "def apply_optimizer(optimizer, func, a, b):\n",
      "    \"\"\" Return the number of function calls given an root-finding optimizer, \n",
      "        a function and upper and lower bounds.\n",
      "    \"\"\"\n",
      "    return optimizer(func, a, b, full_output=True)[1].function_calls,\n",
      "\n",
      "\n",
      "def bench_optimizer(optimizer, param_grid):\n",
      "    \"\"\" Find roots for all the functions, and upper and lower bounds\n",
      "        given and return the total number of function calls.\n",
      "    \"\"\"\n",
      "    return sum(apply_optimizer(optimizer, func, a, b)[0]\n",
      "               for func, a, b in param_grid)\n",
      "\n",
      "\n",
      "def compare_optimizers(optimizers):\n",
      "    \"\"\" Compare all the optimizers given on a grid of a few different\n",
      "        functions all admitting a signle root in zero and a upper and\n",
      "        lower bounds.\n",
      "    \"\"\"\n",
      "    random_a = -1.3 + np.random.random(size=100)\n",
      "    random_b =   .3 + np.random.random(size=100)\n",
      "    \n",
      "    print \"Benching 1D root-finder optimizers from scipy.optimize:\"\n",
      "    for optimizer in OPTIMIZERS:\n",
      "        param_grid = product(FUNCTIONS, random_a, random_b)\n",
      "        print '% 20s: % 8i total function calls' % (\n",
      "                    optimizer.__name__, \n",
      "                    bench_optimizer(optimizer, param_grid)\n",
      "                )\n",
      "\n",
      "\n",
      "if __name__ == '__main__':\n",
      "    compare_optimizers(OPTIMIZERS)"
     ],
     "language": "python",
     "metadata": {},
     "outputs": [
      {
       "output_type": "stream",
       "stream": "stdout",
       "text": [
        "Benching 1D root-finder optimizers from scipy.optimize:\n",
        "              brenth:   602587 total function calls"
       ]
      },
      {
       "output_type": "stream",
       "stream": "stdout",
       "text": [
        "\n",
        "              brentq:   591384 total function calls"
       ]
      },
      {
       "output_type": "stream",
       "stream": "stdout",
       "text": [
        "\n",
        "              ridder:   771828 total function calls"
       ]
      },
      {
       "output_type": "stream",
       "stream": "stdout",
       "text": [
        "\n",
        "              bisect:  2147045 total function calls"
       ]
      },
      {
       "output_type": "stream",
       "stream": "stdout",
       "text": [
        "\n"
       ]
      }
     ],
     "prompt_number": 93
    },
    {
     "cell_type": "heading",
     "level": 5,
     "metadata": {},
     "source": [
      "The debugging process:"
     ]
    },
    {
     "cell_type": "raw",
     "metadata": {},
     "source": [
      "TypeError in calling the function compare_optimizers(). Apparently I am trying to add an 'int' and a 'tuple', so it says. I'll try to trace the processes as they are executed. \n",
      "\n",
      "The first thing that happens is the definition of FUNCTIONS and OPTIMIZERS. Lemme see what those look like:"
     ]
    },
    {
     "cell_type": "code",
     "collapsed": false,
     "input": [
      "print type(FUNCTIONS)\n",
      "print type(FUNCTIONS[0])\n",
      "print type(FUNCTIONS[3])"
     ],
     "language": "python",
     "metadata": {},
     "outputs": [
      {
       "output_type": "stream",
       "stream": "stdout",
       "text": [
        "<type 'tuple'>\n",
        "<type 'numpy.ufunc'>\n",
        "<type 'function'>\n"
       ]
      }
     ],
     "prompt_number": 5
    },
    {
     "cell_type": "code",
     "collapsed": false,
     "input": [
      "FUNCTIONS"
     ],
     "language": "python",
     "metadata": {},
     "outputs": [
      {
       "metadata": {},
       "output_type": "pyout",
       "prompt_number": 6,
       "text": [
        "(<ufunc 'tan'>,\n",
        " <ufunc 'tanh'>,\n",
        " <function __main__.<lambda>>,\n",
        " <function __main__.<lambda>>,\n",
        " <function __main__.<lambda>>)"
       ]
      }
     ],
     "prompt_number": 6
    },
    {
     "cell_type": "code",
     "collapsed": false,
     "input": [
      "print type(OPTIMIZERS)\n",
      "print type(OPTIMIZERS[0])\n",
      "print type(OPTIMIZERS[1])"
     ],
     "language": "python",
     "metadata": {},
     "outputs": [
      {
       "output_type": "stream",
       "stream": "stdout",
       "text": [
        "<type 'tuple'>\n",
        "<type 'function'>\n",
        "<type 'function'>\n"
       ]
      }
     ],
     "prompt_number": 7
    },
    {
     "cell_type": "code",
     "collapsed": false,
     "input": [
      "OPTIMIZERS"
     ],
     "language": "python",
     "metadata": {},
     "outputs": [
      {
       "metadata": {},
       "output_type": "pyout",
       "prompt_number": 8,
       "text": [
        "(<function scipy.optimize.zeros.brenth>,\n",
        " <function scipy.optimize.zeros.brentq>,\n",
        " <function scipy.optimize.zeros.ridder>,\n",
        " <function scipy.optimize.zeros.bisect>)"
       ]
      }
     ],
     "prompt_number": 8
    },
    {
     "cell_type": "raw",
     "metadata": {},
     "source": [
      "Nothing obvious here. What happens next? compare_optimizers() is called and a grid is defined to be iterated over. Let me reduce the size of the grid to make this simpler. Since this function chokes on bench_optimizer(), which contains a for loop over param_grid, I want to see what param_grid looks like:"
     ]
    },
    {
     "cell_type": "code",
     "collapsed": false,
     "input": [
      "random_a = -1.3 * np.random.random(size=2)\n",
      "random_b = 0.3 * np.random.random(size=2)\n",
      "param_grid = product(FUNCTIONS, random_a, random_b)"
     ],
     "language": "python",
     "metadata": {},
     "outputs": [],
     "prompt_number": 10
    },
    {
     "cell_type": "code",
     "collapsed": false,
     "input": [
      "param_grid"
     ],
     "language": "python",
     "metadata": {},
     "outputs": [
      {
       "metadata": {},
       "output_type": "pyout",
       "prompt_number": 59,
       "text": [
        "<itertools.product at 0x2cd36e0>"
       ]
      }
     ],
     "prompt_number": 59
    },
    {
     "cell_type": "code",
     "collapsed": false,
     "input": [
      "for (func, a,b) in param_grid:\n",
      "    print (func,a,b)"
     ],
     "language": "python",
     "metadata": {},
     "outputs": [
      {
       "output_type": "stream",
       "stream": "stdout",
       "text": [
        "(<ufunc 'tan'>, -0.60801892022246196, 0.23432853855685176)\n",
        "(<ufunc 'tan'>, -0.60801892022246196, 0.056129177105846757)\n",
        "(<ufunc 'tan'>, -0.22580787844278624, 0.23432853855685176)\n",
        "(<ufunc 'tan'>, -0.22580787844278624, 0.056129177105846757)\n",
        "(<ufunc 'tanh'>, -0.60801892022246196, 0.23432853855685176)\n",
        "(<ufunc 'tanh'>, -0.60801892022246196, 0.056129177105846757)\n",
        "(<ufunc 'tanh'>, -0.22580787844278624, 0.23432853855685176)\n",
        "(<ufunc 'tanh'>, -0.22580787844278624, 0.056129177105846757)\n",
        "(<function <lambda> at 0x1044ca8c0>, -0.60801892022246196, 0.23432853855685176)\n",
        "(<function <lambda> at 0x1044ca8c0>, -0.60801892022246196, 0.056129177105846757)\n",
        "(<function <lambda> at 0x1044ca8c0>, -0.22580787844278624, 0.23432853855685176)\n",
        "(<function <lambda> at 0x1044ca8c0>, -0.22580787844278624, 0.056129177105846757)\n",
        "(<function <lambda> at 0x1044ca500>, -0.60801892022246196, 0.23432853855685176)\n",
        "(<function <lambda> at 0x1044ca500>, -0.60801892022246196, 0.056129177105846757)\n",
        "(<function <lambda> at 0x1044ca500>, -0.22580787844278624, 0.23432853855685176)\n",
        "(<function <lambda> at 0x1044ca500>, -0.22580787844278624, 0.056129177105846757)\n",
        "(<function <lambda> at 0x1044ca848>, -0.60801892022246196, 0.23432853855685176)\n",
        "(<function <lambda> at 0x1044ca848>, -0.60801892022246196, 0.056129177105846757)\n",
        "(<function <lambda> at 0x1044ca848>, -0.22580787844278624, 0.23432853855685176)\n",
        "(<function <lambda> at 0x1044ca848>, -0.22580787844278624, 0.056129177105846757)\n"
       ]
      }
     ],
     "prompt_number": 11
    },
    {
     "cell_type": "raw",
     "metadata": {},
     "source": [
      "Ok, still nothing jumping out at me. What does apply_optimizers() do?  "
     ]
    },
    {
     "cell_type": "code",
     "collapsed": false,
     "input": [
      "OPTIMIZERS[0](FUNCTIONS[0], random_a[0], random_b[0], full_output=True)[1].function_calls,"
     ],
     "language": "python",
     "metadata": {},
     "outputs": [
      {
       "metadata": {},
       "output_type": "pyout",
       "prompt_number": 12,
       "text": [
        "(8,)"
       ]
      }
     ],
     "prompt_number": 12
    },
    {
     "cell_type": "raw",
     "metadata": {},
     "source": [
      "There's a comma at the end of the return line in apply_optimizers(). This returns a tuple.  If I delete this comma the code executes, but returns a '0' for brentq, ridder, and bisect. Where is the 'int' that is being added to this? Let's look at outputs of apply_optimizers:"
     ]
    },
    {
     "cell_type": "code",
     "collapsed": false,
     "input": [
      "random_a = -1.3 * np.random.random(size=100)\n",
      "random_b = 0.3 * np.random.random(size=100)\n",
      "param_grid = product(FUNCTIONS, random_a, random_b)\n",
      "for optimizer in OPTIMIZERS:\n",
      "    for (func, a, b) in param_grid:\n",
      "        z = apply_optimizer(optimizer, func, a, b)\n",
      "        if type(z) != tuple:\n",
      "            print 'not tuple detected!'"
     ],
     "language": "python",
     "metadata": {},
     "outputs": [],
     "prompt_number": 36
    },
    {
     "cell_type": "raw",
     "metadata": {},
     "source": [
      "Ok, didn't find any ints. What happens if I add them in the old fashioned way? I'm going to decrease the size to 10 so the output isn't horrible."
     ]
    },
    {
     "cell_type": "code",
     "collapsed": false,
     "input": [
      "random_a = -1.3 * np.random.random(size=10)\n",
      "random_b = 0.3 * np.random.random(size=10)\n",
      "param_grid = product(FUNCTIONS, random_a, random_b)\n",
      "for optimizer in OPTIMIZERS:\n",
      "    z = 0,\n",
      "    for (func, a, b) in param_grid:\n",
      "        z += apply_optimizer(optimizer, func, a, b)\n",
      "    print z"
     ],
     "language": "python",
     "metadata": {},
     "outputs": [
      {
       "output_type": "stream",
       "stream": "stdout",
       "text": [
        "(0, 8, 8, 8, 8, 7, 7, 8, 8, 8, 8, 8, 8, 8, 8, 7, 7, 8, 8, 8, 7, 9, 8, 8, 8, 8, 8, 8, 8, 8, 8, 9, 8, 8, 8, 8, 8, 8, 8, 8, 8, 9, 8, 8, 8, 8, 8, 8, 8, 8, 8, 8, 8, 7, 7, 7, 7, 8, 8, 8, 7, 8, 8, 8, 8, 7, 7, 8, 8, 8, 8, 7, 6, 6, 6, 6, 6, 6, 6, 6, 6, 7, 7, 6, 6, 6, 6, 6, 6, 7, 6, 9, 9, 8, 8, 8, 8, 8, 8, 9, 8, 7, 7, 7, 7, 7, 7, 7, 7, 7, 7, 7, 7, 7, 7, 7, 7, 7, 7, 7, 7, 7, 7, 7, 7, 7, 7, 7, 7, 7, 7, 7, 7, 7, 7, 7, 7, 7, 7, 7, 7, 7, 7, 7, 7, 7, 7, 7, 7, 7, 7, 7, 7, 7, 7, 6, 6, 7, 7, 7, 7, 7, 7, 7, 7, 7, 7, 7, 7, 7, 7, 6, 6, 6, 6, 6, 6, 6, 6, 6, 6, 6, 6, 6, 6, 6, 6, 6, 6, 6, 6, 7, 7, 7, 7, 7, 7, 7, 7, 7, 7, 24, 24, 24, 24, 23, 23, 25, 23, 23, 24, 24, 24, 24, 24, 23, 23, 25, 25, 23, 24, 26, 26, 26, 26, 23, 23, 25, 25, 25, 26, 26, 26, 26, 26, 23, 23, 25, 25, 25, 26, 25, 25, 26, 25, 23, 23, 25, 25, 25, 26, 25, 23, 23, 22, 23, 23, 23, 23, 24, 24, 24, 26, 24, 24, 23, 23, 25, 24, 23, 24, 16, 14, 14, 14, 12, 12, 14, 14, 14, 14, 20, 18, 16, 16, 13, 13, 17, 16, 19, 15, 27, 26, 26, 27, 23, 23, 26, 26, 26, 26, 7, 7, 7, 7, 7, 7, 7, 7, 7, 7, 7, 7, 7, 7, 7, 7, 7, 7, 7, 7, 8, 7, 7, 7, 7, 7, 7, 7, 7, 7, 8, 7, 7, 7, 7, 7, 7, 7, 7, 7, 8, 7, 7, 7, 7, 7, 7, 7, 7, 7, 7, 7, 7, 7, 7, 7, 7, 7, 7, 7, 7, 7, 7, 7, 7, 7, 7, 7, 7, 7, 6, 6, 6, 6, 6, 6, 6, 6, 6, 6, 6, 6, 6, 6, 6, 6, 6, 6, 6, 6, 8, 7, 7, 7, 7, 7, 7, 7, 7, 7, 8, 8, 7, 7, 7, 7, 7, 7, 8, 7, 8, 8, 7, 7, 7, 7, 7, 7, 8, 7, 9, 9, 8, 8, 8, 8, 8, 8, 9, 8, 9, 9, 8, 8, 8, 8, 8, 8, 9, 8, 9, 9, 8, 8, 8, 8, 8, 8, 9, 8, 8, 8, 7, 7, 7, 7, 7, 7, 8, 7, 8, 8, 7, 7, 7, 7, 8, 8, 7, 7, 6, 6, 6, 6, 6, 6, 6, 6, 6, 6, 7, 7, 6, 6, 6, 6, 6, 6, 7, 6, 9, 9, 8, 8, 8, 8, 9, 8, 9, 8)\n",
        "(0,)\n",
        "(0,)\n",
        "(0,)\n"
       ]
      }
     ],
     "prompt_number": 72
    },
    {
     "cell_type": "raw",
     "metadata": {},
     "source": [
      "Ok, obviously that concatenates the tuples. I don't understand what sum() is doing:"
     ]
    },
    {
     "cell_type": "code",
     "collapsed": false,
     "input": [
      "sum((2*i,) for i in range(5))"
     ],
     "language": "python",
     "metadata": {},
     "outputs": [
      {
       "ename": "TypeError",
       "evalue": "unsupported operand type(s) for +: 'int' and 'tuple'",
       "output_type": "pyerr",
       "traceback": [
        "\u001b[0;31m---------------------------------------------------------------------------\u001b[0m\n\u001b[0;31mTypeError\u001b[0m                                 Traceback (most recent call last)",
        "\u001b[0;32m<ipython-input-67-61e29d2357ed>\u001b[0m in \u001b[0;36m<module>\u001b[0;34m()\u001b[0m\n\u001b[0;32m----> 1\u001b[0;31m \u001b[0msum\u001b[0m\u001b[0;34m(\u001b[0m\u001b[0;34m(\u001b[0m\u001b[0;36m2\u001b[0m\u001b[0;34m*\u001b[0m\u001b[0mi\u001b[0m\u001b[0;34m,\u001b[0m\u001b[0;34m)\u001b[0m \u001b[0;32mfor\u001b[0m \u001b[0mi\u001b[0m \u001b[0;32min\u001b[0m \u001b[0mrange\u001b[0m\u001b[0;34m(\u001b[0m\u001b[0;36m5\u001b[0m\u001b[0;34m)\u001b[0m\u001b[0;34m)\u001b[0m\u001b[0;34m\u001b[0m\u001b[0m\n\u001b[0m",
        "\u001b[0;31mTypeError\u001b[0m: unsupported operand type(s) for +: 'int' and 'tuple'"
       ]
      }
     ],
     "prompt_number": 67
    },
    {
     "cell_type": "code",
     "collapsed": false,
     "input": [
      "sum(2*i for i in range(5))"
     ],
     "language": "python",
     "metadata": {},
     "outputs": [
      {
       "metadata": {},
       "output_type": "pyout",
       "prompt_number": 69,
       "text": [
        "20"
       ]
      }
     ],
     "prompt_number": 69
    },
    {
     "cell_type": "raw",
     "metadata": {},
     "source": [
      "Ah, the sum function does not like tuples.  If it pick the first element of the tuple, does it work?"
     ]
    },
    {
     "cell_type": "code",
     "collapsed": false,
     "input": [
      "sum((2*i,)[0] for i in range(5))"
     ],
     "language": "python",
     "metadata": {},
     "outputs": [
      {
       "metadata": {},
       "output_type": "pyout",
       "prompt_number": 73,
       "text": [
        "20"
       ]
      }
     ],
     "prompt_number": 73
    },
    {
     "cell_type": "raw",
     "metadata": {},
     "source": [
      "YES! Now we're getting somewhere?"
     ]
    },
    {
     "cell_type": "code",
     "collapsed": false,
     "input": [
      "random_a = -1.3 * np.random.random(size=100)\n",
      "random_b = 0.3 * np.random.random(size=100)\n",
      "param_grid = product(FUNCTIONS, random_a, random_b)\n",
      "\n",
      "for optimizer in OPTIMIZERS:\n",
      "    z = sum(apply_optimizer(optimizer, func, a, b)[0] for (func, a, b) in param_grid)\n",
      "    print z"
     ],
     "language": "python",
     "metadata": {},
     "outputs": [
      {
       "output_type": "stream",
       "stream": "stdout",
       "text": [
        "517844\n",
        "0\n",
        "0\n",
        "0\n"
       ]
      }
     ],
     "prompt_number": 84
    },
    {
     "cell_type": "raw",
     "metadata": {},
     "source": [
      "Hmm... It only did the first optimizer."
     ]
    },
    {
     "cell_type": "code",
     "collapsed": false,
     "input": [
      "random_a = -1.3 * np.random.random(size=100)\n",
      "random_b = 0.3 * np.random.random(size=100)\n",
      "param_grid = product(FUNCTIONS, random_a, random_b)\n",
      "\n",
      "z = sum(apply_optimizer(OPTIMIZERS[1], func, a, b)[0] for (func, a, b) in param_grid)\n",
      "print z"
     ],
     "language": "python",
     "metadata": {},
     "outputs": [
      {
       "output_type": "stream",
       "stream": "stdout",
       "text": [
        "512129\n"
       ]
      }
     ],
     "prompt_number": 79
    },
    {
     "cell_type": "raw",
     "metadata": {},
     "source": [
      "Something is happening to param_grid when it is being iterated over. Let's see:"
     ]
    },
    {
     "cell_type": "code",
     "collapsed": false,
     "input": [
      "random_a = -1.3 * np.random.random(size=100)\n",
      "random_b = 0.3 * np.random.random(size=100)\n",
      "param_grid = product(FUNCTIONS, random_a, random_b)\n",
      "print param_grid\n",
      "\n",
      "z = sum(apply_optimizer(OPTIMIZERS[1], func, a, b)[0] for (func, a, b) in param_grid)\n",
      "for func, a, b in param_grid:\n",
      "    print (func, a, b)\n",
      "    print param_grid"
     ],
     "language": "python",
     "metadata": {},
     "outputs": [
      {
       "output_type": "stream",
       "stream": "stdout",
       "text": [
        "<itertools.product object at 0x1044bfcd0>\n"
       ]
      }
     ],
     "prompt_number": 86
    },
    {
     "cell_type": "raw",
     "metadata": {},
     "source": [
      "Ah, param_grid is empty after it has been iterated over once. If I redefine it INSIDE the for loop, it seems to work:"
     ]
    },
    {
     "cell_type": "code",
     "collapsed": false,
     "input": [
      "random_a = -1.3 * np.random.random(size=100)\n",
      "random_b = 0.3 * np.random.random(size=100)\n",
      "\n",
      "for optimizer in OPTIMIZERS:\n",
      "    param_grid = product(FUNCTIONS, random_a, random_b)\n",
      "    z = sum(apply_optimizer(optimizer, func, a, b)[0] for (func, a, b) in param_grid)\n",
      "    print z"
     ],
     "language": "python",
     "metadata": {},
     "outputs": [
      {
       "output_type": "stream",
       "stream": "stdout",
       "text": [
        "519100\n",
        "510498"
       ]
      },
      {
       "output_type": "stream",
       "stream": "stdout",
       "text": [
        "\n",
        "738278"
       ]
      },
      {
       "output_type": "stream",
       "stream": "stdout",
       "text": [
        "\n",
        "2087305"
       ]
      },
      {
       "output_type": "stream",
       "stream": "stdout",
       "text": [
        "\n"
       ]
      }
     ],
     "prompt_number": 87
    },
    {
     "cell_type": "raw",
     "metadata": {},
     "source": [
      "Yay! It works. See script up top. Problem terminated."
     ]
    },
    {
     "cell_type": "markdown",
     "metadata": {},
     "source": [
      "<img src=\"files/the-terminator.jpg\">"
     ]
    }
   ],
   "metadata": {}
  }
 ]
}