{
 "metadata": {
  "name": ""
 },
 "nbformat": 3,
 "nbformat_minor": 0,
 "worksheets": [
  {
   "cells": [
    {
     "cell_type": "markdown",
     "metadata": {},
     "source": [
      "First, I run the program to see what the Python interpreter tells me. The program does not execute because there is some sort of TypeError. This error gets traced back to the line >>sum(apply_optimizer(optimizer, func, a, b) for func, a, b in param_grid)<<. I test to see that the error really occurs here by using a try and except TypeError (print \"Type error, program exiting\" & sys.exit(1) if true). The program now prints the message and exits, confirming that this is one of the problem lines of code. \n",
      "\n",
      "Next, I see that the problem line calls upon the compare_optimizers() function and the TypeError involves int and tuple in the nested for loop in bench_optimizer(). Since the for loop involves \"param_grid,\" I investigate how param_grid is defined (in compare_optimizers()). It is created by this function product(). Maybe you cannot mix arrays of different types for this product() function. I test this out by taking the product of a tuple of numbers, an array of strings, and an array of numbers -- it ran just fine. So this was a dead end. I go back to the apply_optimizer(optimizer, func, a, b) line in bench_optimizer(). Perhaps apply_optimizer returns a tuple and np.sum cannot sum up tuples. \n",
      "\n",
      "This seems to make the script executable! However, it seems that only the first optimizer (brenth) ran correctly. All the other optimizers returned with 0 function calls. I explicitly defined a for loop with func, a, b, in param_grid and print out a.shape, b.shape. They returned empty, which leads me back to the original definition of param_grid in compare_optimizers(). At this point I start googling for sample uses of the product function. A lot of them explicitly returned list(itertools.product()). I follow their example and define param_grid = list(product(func, random_a, random_b)). \n",
      "\n",
      "This seemed to have done the trick. The script now gives the correct output!"
     ]
    },
    {
     "cell_type": "code",
     "collapsed": false,
     "input": [
      "\"\"\"\n",
      "A script to compare different root-finding algorithms.\n",
      "\n",
      "This version of the script is buggy and does not execute. It is your task\n",
      "to find an fix these bugs.\n",
      "\n",
      "The output of the script sould look like:\n",
      "\n",
      "    Benching 1D root-finder optimizers from scipy.optimize:\n",
      "                brenth:   604678 total function calls\n",
      "                brentq:   594454 total function calls\n",
      "                ridder:   778394 total function calls\n",
      "                bisect:  2148380 total function calls\n",
      "\"\"\"\n",
      "from itertools import product\n",
      "import sys\n",
      "import numpy as np\n",
      "from scipy import optimize\n",
      "\n",
      "FUNCTIONS = (np.tan,  # Dilating map\n",
      "             np.tanh, # Contracting map\n",
      "             lambda x: x**3 + 1e-4*x, # Almost null gradient at the root\n",
      "             lambda x: x+np.sin(2*x), # Non monotonous function\n",
      "             lambda x: 1.1*x+np.sin(4*x), # Fonction with several local maxima\n",
      "            )\n",
      "\n",
      "#FUNCTIONS = list(FUNCTIONS)\n",
      "\n",
      "OPTIMIZERS = (optimize.brenth, optimize.brentq, optimize.ridder,\n",
      "              optimize.bisect)\n",
      "\n",
      "\n",
      "def apply_optimizer(optimizer, func, a, b):\n",
      "    \"\"\" Return the number of function calls given an root-finding optimizer, \n",
      "        a function and upper and lower bounds.\n",
      "    \"\"\"\n",
      "    return optimizer(func, a, b, full_output=True)[1].function_calls,\n",
      "\n",
      "\n",
      "def bench_optimizer(optimizer, param_grid):\n",
      "    \"\"\" Find roots for all the functions, and upper and lower bounds\n",
      "        given and return the total number of function calls.\n",
      "    \"\"\"\n",
      "#    res=0\n",
      "#    for func, a, b in param_grid:\n",
      "        #print res0\n",
      "#        res +=np.array(apply_optimizer(optimizer, func, a, b))\n",
      "#    try:\n",
      "#        res = [sum(np.array(apply_optimizer(optimizer, func, a, b)) for func, a, b in param_grid)]\n",
      "#    except TypeError:\n",
      "#        print \"TypeError, exiting program\"\n",
      "#        return #sys.exit(1)\n",
      "#    print optimizer, res\n",
      "#    return res\n",
      "#    print (param_grid)\n",
      "    return sum(np.array(apply_optimizer(optimizer, func, a, b)) for func, a, b in param_grid)\n",
      "\n",
      "\n",
      "def compare_optimizers(optimizers):\n",
      "    \"\"\" Compare all the optimizers given on a grid of a few different\n",
      "        functions all admitting a signle root in zero and a upper and\n",
      "        lower bounds.\n",
      "    \"\"\"\n",
      "    random_a = -1.3 + np.random.random(size=100)\n",
      "    random_b =   .3 + np.random.random(size=100)\n",
      "    param_grid = list(product(FUNCTIONS, random_a, random_b))\n",
      "#    for func, a, b in param_grid:\n",
      "#        print func, a, b\n",
      "    print \"Benching 1D root-finder optimizers from scipy.optimize:\"\n",
      "    for optimizer in OPTIMIZERS:\n",
      "        print '% 20s: % 8i total function calls' % (\n",
      "                    optimizer.__name__, \n",
      "                    bench_optimizer(optimizer, param_grid)\n",
      "                )\n",
      "\n",
      "\n",
      "if __name__ == '__main__':\n",
      "    compare_optimizers(OPTIMIZERS)"
     ],
     "language": "python",
     "metadata": {},
     "outputs": [
      {
       "output_type": "stream",
       "stream": "stdout",
       "text": [
        "Benching 1D root-finder optimizers from scipy.optimize:\n",
        "              brenth:   604249 total function calls"
       ]
      },
      {
       "output_type": "stream",
       "stream": "stdout",
       "text": [
        "\n",
        "              brentq:   594173 total function calls"
       ]
      },
      {
       "output_type": "stream",
       "stream": "stdout",
       "text": [
        "\n",
        "              ridder:   773118 total function calls"
       ]
      },
      {
       "output_type": "stream",
       "stream": "stdout",
       "text": [
        "\n",
        "              bisect:  2148970 total function calls"
       ]
      },
      {
       "output_type": "stream",
       "stream": "stdout",
       "text": [
        "\n"
       ]
      }
     ],
     "prompt_number": 86
    },
    {
     "cell_type": "code",
     "collapsed": false,
     "input": [
      "from itertools import product\n",
      "import sys\n",
      "import numpy as np\n",
      "\n",
      "a = (1,2,3)\n",
      "b = ['a','b']\n",
      "c = [4,5]\n",
      "test = product(a, b, c)\n",
      "for i,j,k in test:\n",
      "    print i,j,k\n"
     ],
     "language": "python",
     "metadata": {},
     "outputs": [
      {
       "output_type": "stream",
       "stream": "stdout",
       "text": [
        "1 a 4\n",
        "1 a 5\n",
        "1 b 4\n",
        "1 b 5\n",
        "2 a 4\n",
        "2 a 5\n",
        "2 b 4\n",
        "2 b 5\n",
        "3 a 4\n",
        "3 a 5\n",
        "3 b 4\n",
        "3 b 5\n"
       ]
      }
     ],
     "prompt_number": 83
    },
    {
     "cell_type": "code",
     "collapsed": false,
     "input": [
      "print OPTIMIZERS"
     ],
     "language": "python",
     "metadata": {},
     "outputs": [
      {
       "output_type": "stream",
       "stream": "stdout",
       "text": [
        "(<function brenth at 0x1053180c8>, <function brentq at 0x105318050>, <function ridder at 0x105316f50>, <function bisect at 0x105316ed8>)\n"
       ]
      }
     ],
     "prompt_number": 66
    },
    {
     "cell_type": "code",
     "collapsed": false,
     "input": [],
     "language": "python",
     "metadata": {},
     "outputs": []
    }
   ],
   "metadata": {}
  }
 ]
}