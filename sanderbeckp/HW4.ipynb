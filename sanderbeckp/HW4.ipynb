{
 "metadata": {
  "name": "HW4"
 },
 "nbformat": 3,
 "nbformat_minor": 0,
 "worksheets": [
  {
   "cells": [
    {
     "cell_type": "markdown",
     "metadata": {},
     "source": "To generate a FITS image of a de Vaucouleurs galaxy, we first want to define a multi-dimentional mesh grid "
    },
    {
     "cell_type": "code",
     "collapsed": false,
     "input": "import numpy\nimport astropy.io.fits as fits\nx, y = numpy.ogrid[-100:100,-100:100]",
     "language": "python",
     "metadata": {},
     "outputs": [],
     "prompt_number": 15
    },
    {
     "cell_type": "markdown",
     "metadata": {},
     "source": "We then want to check the shape of these meshgrids:"
    },
    {
     "cell_type": "code",
     "collapsed": false,
     "input": "x.shape, y.shape",
     "language": "python",
     "metadata": {},
     "outputs": [
      {
       "metadata": {},
       "output_type": "pyout",
       "prompt_number": 16,
       "text": "((200, 1), (1, 200))"
      }
     ],
     "prompt_number": 16
    },
    {
     "cell_type": "markdown",
     "metadata": {},
     "source": "We now want to make this a 2-D array:"
    },
    {
     "cell_type": "code",
     "collapsed": false,
     "input": "n = numpy.sqrt(x**2 + y**2)",
     "language": "python",
     "metadata": {},
     "outputs": [],
     "prompt_number": 17
    },
    {
     "cell_type": "markdown",
     "metadata": {},
     "source": "Checking the shape:"
    },
    {
     "cell_type": "code",
     "collapsed": false,
     "input": "n.shape",
     "language": "python",
     "metadata": {},
     "outputs": [
      {
       "metadata": {},
       "output_type": "pyout",
       "prompt_number": 18,
       "text": "(200, 200)"
      }
     ],
     "prompt_number": 18
    },
    {
     "cell_type": "markdown",
     "metadata": {},
     "source": "Now we want to make the radial density of points fit a Jaffe porfile:"
    },
    {
     "cell_type": "code",
     "collapsed": false,
     "input": "rho = (1/(4*numpy.pi))*((n/100))**(-2)*(1+(n/100))**(-2)",
     "language": "python",
     "metadata": {},
     "outputs": [
      {
       "output_type": "stream",
       "stream": "stdout",
       "text": "WARNING: RuntimeWarning: divide by zero encountered in power [unknown]\n"
      }
     ],
     "prompt_number": 21
    },
    {
     "cell_type": "markdown",
     "metadata": {},
     "source": "And multiply by a factor of n^3 to get a number of points"
    },
    {
     "cell_type": "code",
     "collapsed": false,
     "input": "jaffe = rho*n**3",
     "language": "python",
     "metadata": {},
     "outputs": [],
     "prompt_number": 29
    },
    {
     "cell_type": "markdown",
     "metadata": {},
     "source": "Write to a fits file"
    },
    {
     "cell_type": "code",
     "collapsed": false,
     "input": "hdu = fits.PrimaryHDU(jaffe)\nhdu.writeto('JaffeProfile1.fits')",
     "language": "python",
     "metadata": {},
     "outputs": [],
     "prompt_number": 31
    },
    {
     "cell_type": "code",
     "collapsed": false,
     "input": "",
     "language": "python",
     "metadata": {},
     "outputs": [],
     "prompt_number": 27
    },
    {
     "cell_type": "code",
     "collapsed": false,
     "input": "",
     "language": "python",
     "metadata": {},
     "outputs": []
    }
   ],
   "metadata": {}
  }
 ]
}