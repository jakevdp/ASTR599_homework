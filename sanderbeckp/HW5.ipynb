{
 "metadata": {
  "name": "HW5"
 },
 "nbformat": 3,
 "nbformat_minor": 0,
 "worksheets": [
  {
   "cells": [
    {
     "cell_type": "markdown",
     "metadata": {},
     "source": "In this debugging exercise, I used print statements to determine where the code was failing. First I put a print statement where we define \"apply_optimizer\" to to make sure that the function was returning an output and not just breaking. Then I ran the code and found that it worked, but only for the first optimizer. I double checked that \"bench_optimizer\" was working by also inserting a print statement there. I then examined \"compare_optimizers\" and realized that param_grid was not getting updated for each optimizer since it was not in the for loop. After replacing param_grid into the for loop, the script worked as its intended purpose."
    },
    {
     "cell_type": "code",
     "collapsed": false,
     "input": "from itertools import product",
     "language": "python",
     "metadata": {},
     "outputs": [],
     "prompt_number": 152
    },
    {
     "cell_type": "code",
     "collapsed": false,
     "input": "import numpy\nfrom scipy import optimize",
     "language": "python",
     "metadata": {},
     "outputs": [],
     "prompt_number": 153
    },
    {
     "cell_type": "code",
     "collapsed": false,
     "input": "FUNCTIONS = (numpy.tan,  # Dilating map\n             numpy.tanh, # Contracting map\n             lambda x: x**3 + (1e-4)*x, # Almost null gradient at the root\n             lambda x: x+numpy.sin(2*x), # Non monotonous function\n             lambda x: 1.1*x+numpy.sin(4*x), # Fonction with several local maxima\n            )",
     "language": "python",
     "metadata": {},
     "outputs": [],
     "prompt_number": 154
    },
    {
     "cell_type": "code",
     "collapsed": false,
     "input": "OPTIMIZERS = (optimize.brenth, optimize.brentq, optimize.ridder,\n              optimize.bisect)",
     "language": "python",
     "metadata": {},
     "outputs": [],
     "prompt_number": 155
    },
    {
     "cell_type": "code",
     "collapsed": false,
     "input": "def apply_optimizer(optimizer, func, a, b):\n    \"\"\" Return the number of function calls given an root-finding optimizer, \n        a function and upper and lower bounds.\n    \"\"\"\n    #print 'Working'\n    return optimizer(func, a, b, full_output=True)[1].function_calls\n\n",
     "language": "python",
     "metadata": {},
     "outputs": [],
     "prompt_number": 160
    },
    {
     "cell_type": "code",
     "collapsed": false,
     "input": "def bench_optimizer(optimizer, param_grid):\n    \"\"\" Find roots for all the functions, and upper and lower bounds\n        given and return the total number of function calls.\n    \"\"\"\n    print 'Working 2'\n    return sum(apply_optimizer(optimizer, func, a, b)\n               for func, a, b in param_grid)",
     "language": "python",
     "metadata": {},
     "outputs": [],
     "prompt_number": 161
    },
    {
     "cell_type": "code",
     "collapsed": false,
     "input": "\ndef compare_optimizers(optimizers):\n    \"\"\" Compare all the optimizers given on a grid of a few different\n        functions all admitting a signle root in zero and a upper and\n        lower bounds.\n    \"\"\"\n    random_a = -1.3 + numpy.random.random(size=100)\n    random_b =   0.3 + numpy.random.random(size=100)\n    \n    print \"Benching 1D root-finder optimizers from scipy.optimize:\"\n    for optimizer in OPTIMIZERS:\n        param_grid = product(FUNCTIONS, random_a, random_b)\n        print '% 20s: % 8i total function calls' % (\n                    optimizer.__name__, \n                    bench_optimizer(optimizer, param_grid)\n                )\n\n",
     "language": "python",
     "metadata": {},
     "outputs": [],
     "prompt_number": 164
    },
    {
     "cell_type": "code",
     "collapsed": false,
     "input": "if __name__ == '__main__':\n    compare_optimizers(OPTIMIZERS)\n",
     "language": "python",
     "metadata": {},
     "outputs": [
      {
       "output_type": "stream",
       "stream": "stdout",
       "text": "Benching 1D root-finder optimizers from scipy.optimize:\nWorking 2\n              brenth:   603246 total function calls"
      },
      {
       "output_type": "stream",
       "stream": "stdout",
       "text": "\nWorking 2\n              brentq:   593647 total function calls"
      },
      {
       "output_type": "stream",
       "stream": "stdout",
       "text": "\nWorking 2\n              ridder:   773084 total function calls"
      },
      {
       "output_type": "stream",
       "stream": "stdout",
       "text": "\nWorking 2\n              bisect:  2147715 total function calls"
      },
      {
       "output_type": "stream",
       "stream": "stdout",
       "text": "\n"
      }
     ],
     "prompt_number": 165
    },
    {
     "cell_type": "code",
     "collapsed": false,
     "input": "\n",
     "language": "python",
     "metadata": {},
     "outputs": [],
     "prompt_number": 64
    },
    {
     "cell_type": "code",
     "collapsed": false,
     "input": "",
     "language": "python",
     "metadata": {},
     "outputs": [],
     "prompt_number": 64
    },
    {
     "cell_type": "code",
     "collapsed": false,
     "input": "",
     "language": "python",
     "metadata": {},
     "outputs": []
    }
   ],
   "metadata": {}
  }
 ]
}