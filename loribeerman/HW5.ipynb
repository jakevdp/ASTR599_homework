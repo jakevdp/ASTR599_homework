{
 "metadata": {
  "name": ""
 },
 "nbformat": 3,
 "nbformat_minor": 0,
 "worksheets": [
  {
   "cells": [
    {
     "cell_type": "code",
     "collapsed": false,
     "input": [
      "\"\"\"\n",
      "A script to compare different root-finding algorithms.\n",
      "\n",
      "This version of the script is buggy and does not execute. It is your task\n",
      "to find and fix these bugs.\n",
      "\n",
      "The output of the script sould look like:\n",
      "\n",
      "    Benching 1D root-finder optimizers from scipy.optimize:\n",
      "                brenth:   604678 total function calls\n",
      "                brentq:   594454 total function calls\n",
      "                ridder:   778394 total function calls\n",
      "                bisect:  2148380 total function calls\n",
      "\"\"\"\n",
      "from itertools import product\n",
      "\n",
      "import numpy as np\n",
      "from scipy import optimize\n",
      "\n",
      "FUNCTIONS = (np.tan,  # Dilating map\n",
      "             np.tanh, # Contracting map\n",
      "             lambda x: x**3 + 1e-4*x, # Almost null gradient at the root\n",
      "             lambda x: x+np.sin(2*x), # Non monotonous function\n",
      "             lambda x: 1.1*x+np.sin(4*x), # Function with several local maxima\n",
      "            )\n",
      "\n",
      "OPTIMIZERS = (optimize.brenth, optimize.brentq, optimize.ridder,\n",
      "              optimize.bisect)\n",
      "\n",
      "\n",
      "def apply_optimizer(optimizer, func, a, b):\n",
      "    \"\"\" Return the number of function calls given a root-finding optimizer, \n",
      "        a function and upper and lower bounds.\n",
      "    \"\"\"\n",
      "    return optimizer(func, a, b, full_output=True)[1].function_calls\n",
      "\n",
      "\n",
      "def bench_optimizer(optimizer, param_grid):\n",
      "    \"\"\" Find roots for all the functions, and upper and lower bounds\n",
      "        given and return the total number of function calls.\n",
      "    \"\"\"\n",
      "    return sum(apply_optimizer(optimizer, func, a, b)\n",
      "               for func, a, b in param_grid)\n",
      "\n",
      "\n",
      "def compare_optimizers(optimizers):\n",
      "    \"\"\" Compare all the optimizers given on a grid of a few different\n",
      "        functions all admitting a single root in zero and a upper and\n",
      "        lower bounds.\n",
      "    \"\"\"\n",
      "    random_a = -1.3 + np.random.random(size=100)\n",
      "    random_b =   .3 + np.random.random(size=100)\n",
      "    print \"Benching 1D root-finder optimizers from scipy.optimize:\"\n",
      "    for optimizer in OPTIMIZERS:\n",
      "\n",
      "        param_grid = product(FUNCTIONS, random_a, random_b)\n",
      "        print '% 20s: % 8i total function calls' % (\n",
      "                    optimizer.__name__, \n",
      "                    bench_optimizer(optimizer, param_grid)\n",
      "                )\n",
      "\n",
      "\n",
      "if __name__ == '__main__':\n",
      "    compare_optimizers(OPTIMIZERS)"
     ],
     "language": "python",
     "metadata": {},
     "outputs": [
      {
       "output_type": "stream",
       "stream": "stdout",
       "text": [
        "Benching 1D root-finder optimizers from scipy.optimize:\n",
        "              brenth:   603686 total function calls"
       ]
      },
      {
       "output_type": "stream",
       "stream": "stdout",
       "text": [
        "\n",
        "              brentq:   593423 total function calls"
       ]
      },
      {
       "output_type": "stream",
       "stream": "stdout",
       "text": [
        "\n",
        "              ridder:   773544 total function calls"
       ]
      },
      {
       "output_type": "stream",
       "stream": "stdout",
       "text": [
        "\n",
        "              bisect:  2147590 total function calls"
       ]
      },
      {
       "output_type": "stream",
       "stream": "stdout",
       "text": [
        "\n"
       ]
      }
     ],
     "prompt_number": 61
    },
    {
     "cell_type": "code",
     "collapsed": false,
     "input": [
      "print OPTIMIZERS[1]"
     ],
     "language": "python",
     "metadata": {},
     "outputs": [
      {
       "output_type": "stream",
       "stream": "stdout",
       "text": [
        "<function brentq at 0x5088170>\n"
       ]
      }
     ],
     "prompt_number": 16
    },
    {
     "cell_type": "code",
     "collapsed": false,
     "input": [
      "random_a = -1.3 + np.random.random(size=100)\n",
      "random_b =   .3 + np.random.random(size=100)\n",
      "param_grid = product(FUNCTIONS, random_a, random_b)\n",
      "print bench_optimizer(OPTIMIZERS[2], param_grid)"
     ],
     "language": "python",
     "metadata": {},
     "outputs": [
      {
       "output_type": "stream",
       "stream": "stdout",
       "text": [
        "775274\n"
       ]
      }
     ],
     "prompt_number": 38
    },
    {
     "cell_type": "code",
     "collapsed": false,
     "input": [
      "\n",
      "param_grid = product(FUNCTIONS, random_a, random_b)\n",
      "#print list(param_grid)\n",
      "print bench_optimizer(OPTIMIZERS[2], param_grid)\n",
      "print list(param_grid)\n"
     ],
     "language": "python",
     "metadata": {},
     "outputs": [
      {
       "output_type": "stream",
       "stream": "stdout",
       "text": [
        "775900\n",
        "[]\n"
       ]
      }
     ],
     "prompt_number": 60
    },
    {
     "cell_type": "code",
     "collapsed": false,
     "input": [
      "print param_grid\n",
      "print bench_optimizer(OPTIMIZERS[2], param_grid)\n"
     ],
     "language": "python",
     "metadata": {},
     "outputs": [
      {
       "output_type": "stream",
       "stream": "stdout",
       "text": [
        "<itertools.product object at 0x4f06d00>\n",
        "0\n"
       ]
      }
     ],
     "prompt_number": 62
    },
    {
     "cell_type": "raw",
     "metadata": {},
     "source": [
      "First, I tried running the script to see what happens.  It gives a Runtime Error:\n",
      "TypeError: unsupported operand type(s) for +: 'int' and 'tuple'\n",
      "\n",
      "I then read the script line by line to see if there was any obvious errors.  I noticed that there was a comma after return optimizer in the apply_optimizer function.  I removed this comma, and ran the script again.\n",
      "\n",
      "This time, it runs without Syntax or Runtime error, and gives:\n",
      "Benching 1D root-finder optimizers from scipy.optimize:\n",
      "              brenth:   603522 total function calls\n",
      "              brentq:        0 total function calls\n",
      "              ridder:        0 total function calls\n",
      "              bisect:        0 total function calls\n",
      "\n",
      "This doesn\u2019t match the expected output, so there is a Semantic Error somewhere.\n",
      "\n",
      "I then added 'print optimizer' below the 'for optimizer in OPTIMIZERS:' to see if the loop is looking at each optimizer.  This looks fine.\n",
      "\n",
      "Next, I looked at bench_optimizer function, since this is what is printed.   I think it looks ok?\n",
      "\n",
      "I'm not sure about the string formatting line:  \u2018% 20s: % 8i total function calls' %\n",
      "I read a little bit about string formatting, and this seems ok.\n",
      "\n",
      "I then add a new cell below the output, to see if I can get a non-zero value for the optimizers other than the first one.\n",
      "The following code:\n",
      "random_a = -1.3 + np.random.random(size=100)\n",
      "random_b =   .3 + np.random.random(size=100)\n",
      "param_grid = product(FUNCTIONS, random_a, random_b)\n",
      "print bench_optimizer(OPTIMIZERS[1], param_grid)\n",
      "\n",
      "gives a correct value, therefore the bench_optimizer function seems to be working.\n",
      "\n",
      "I then try:  print bench_optimizer(OPTIMIZERS[1], param_grid)\n",
      "\n",
      "This gives 0, which is incorrect.  I want to test how the param_grid is generated.  I look up how to see the value of an itertools.product object, then I try:  print list(param_grid)\n",
      "\n",
      "This gives an empty list, so it appears that the param_grid needs to be recalculated each time through the loop.\n",
      "\n",
      "I change the code in the compare_optimizers definition to be:\n",
      "    random_a = -1.3 + np.random.random(size=100)\n",
      "    random_b =   .3 + np.random.random(size=100)\n",
      "    print \"Benching 1D root-finder optimizers from scipy.optimize:\"\n",
      "    for optimizer in OPTIMIZERS:\n",
      "\n",
      "        param_grid = product(FUNCTIONS, random_a, random_b)\n",
      "        print '% 20s: % 8i total function calls' % (\n",
      "                    optimizer.__name__, \n",
      "                    bench_optimizer(optimizer, param_grid)\n",
      "                )\n",
      "\n",
      "This gives the correct answer!"
     ]
    }
   ],
   "metadata": {}
  }
 ]
}