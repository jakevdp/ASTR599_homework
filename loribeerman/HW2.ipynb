{
 "metadata": {
  "name": ""
 },
 "nbformat": 3,
 "nbformat_minor": 0,
 "worksheets": [
  {
   "cells": [
    {
     "cell_type": "markdown",
     "metadata": {},
     "source": [
      "## Homework: fully implement an IMF concept.\n",
      "\n",
      "\n",
      "**due Monday, October 14th**\n",
      "        \n",
      "\n",
      "\n",
      "__Similarly to last week assignment__\n",
      "\n",
      "* Create a new notebook or a copy of the current one, and call it `HW2.ipynb`,\n",
      "\n",
      "* complete this part, embed resulting figures in the notebook. Comment your code: each function/method must have at least one line of description.\n",
      "* The assignment should be turned in by submitting a pull request to the github repository: `jakevdp/ASTR599_homework`. (see Astro599 website for help)"
     ]
    },
    {
     "cell_type": "markdown",
     "metadata": {},
     "source": [
      "**The requirements are:**\n",
      "\n",
      "* Computing the expected number of stars per mass bin\n",
      "* Computing the mass enclosed in a given mass range\n",
      "* Being able to draw random masses from an IMF\n",
      "* What is the average mass predicted by an IMF?\n",
      "\n",
      "Below is a template of IMF class. **Feel free to adapt.**"
     ]
    },
    {
     "cell_type": "code",
     "collapsed": false,
     "input": [
      "import numpy as np\n",
      "import random as random\n",
      "\n",
      "class IMF(object):\n",
      "    \"\"\"\n",
      "    IMF object class\n",
      "    multiple power-laws:  Kroupa IMF\n",
      "\n",
      "    attributes:\n",
      "        norm:    norm of the function\n",
      "    \"\"\"\n",
      "\n",
      "    \n",
      "    def __init__(self, m):\n",
      "        \"\"\"calculates dN/dm for a Kroupa IMF\"\"\"\n",
      "        \n",
      "        #number of power law intervals\n",
      "        self.nI = 5\n",
      "        #mass values separating each power law\n",
      "        self.mass = [0.01, 0.08, 0.5, 1., 150.]\n",
      "        #alpha for each power law\n",
      "        self.exp = [-0.3, -1.3, -2.3, -2.3]\n",
      "        #initialize continuity constants\n",
      "        self.c = np.empty(self.nI - 1)\n",
      "        self.c[0] = 1\n",
      "        \n",
      "        #calculate constants to ensure continuity\n",
      "        for i in range(1, len(self.c)):\n",
      "            self.c[i] = (self.c[i-1] * self.mass[i]**(self.exp[i-1])) / (self.mass[i]**self.exp[i])\n",
      "            \n",
      "        #calculate global normalization\n",
      "        self.z = 0\n",
      "        for i in range(len(self.c)):\n",
      "            self.z += (self.c[i] / (self.exp[i] + 1)) * ((self.mass[i+1]**(self.exp[i] + 1)) - (self.mass[i]**(self.exp[i] + 1)))\n",
      "        \n",
      "        #calculate normalized dN/dm\n",
      "        for i in range(len(self.c)):\n",
      "            if (m >= self.mass[i]) and (m < self.mass[i+1]):\n",
      "                self.norm = self.c[i] * (1./self.z) * m**self.exp[i]\n",
      "\n",
      "\n",
      "    def get_enclosed_mass(self, Mmin, Mmax):\n",
      "        \"\"\"Get the enclosed mass over a given mass range.\n",
      "        \"\"\"\n",
      "        #create mass bins\n",
      "        bins=np.linspace(Mmin,Mmax,1000)\n",
      "        binsize = (bins[:-1]+bins[1:])/2.\n",
      "        integral=0\n",
      "        #integrate dN/dm over Mmin to Mmax and multiply by mass binsize to get enclosed mass\n",
      "        for i in range(1, len(bins)):\n",
      "            integral += binsize[i-1] * (bins[i]-bins[i-1])*(IMF(bins[i]).norm+IMF(bins[i-1]).norm)\n",
      "        return integral\n",
      "\n",
      "    def get_enclosed_Nstar(self, Mmin, Mmax):\n",
      "        \"\"\"Get the enclosed dN over a given mass range\n",
      "        \"\"\"\n",
      "        #create mass bins\n",
      "        bins=np.linspace(Mmin,Mmax,1000)\n",
      "        integral=0\n",
      "        #integrate dN/dm over Mmin to Mmax to get enclosed dN\n",
      "        for i in range(1, len(bins)):\n",
      "            integral += (bins[i]-bins[i-1])*(IMF(bins[i]).norm+IMF(bins[i-1]).norm)\n",
      "        return integral\n",
      "\n",
      "        \n",
      "    def get_avg_mass(self, Mmin, Mmax):\n",
      "        \"\"\" get the avg mass over a given range \"\"\"\n",
      "        #divide enclosed mass by enclosed Nstar to get avg mass\n",
      "        avg_mass = self.get_enclosed_mass(Mmin, Mmax) / self.get_enclosed_Nstar(Mmin, Mmax)\n",
      "        return avg_mass\n",
      "\n",
      "    def getValue(self, m):\n",
      "        \"\"\" returns the value of the normalized IMF at a given mass m:\n",
      "            note: m can be an iterable\n",
      "        \"\"\"\n",
      "        return IMF(m).norm\n",
      "\n",
      "    def random(self, N, massMin=None, massMax=None):\n",
      "        \"\"\" Draw random samples from the Kroupa mass distribution using the rejective method\n",
      "        Samples are distributed over the interval [massMin, massMax]\n",
      "        \"\"\"\n",
      "        #convert limits from M to logM\n",
      "        log_M_Min = np.log10(massMin)\n",
      "        log_M_Max = np.log10(massMax)\n",
      "        #calculate maximum likelihood, which occurs at massMin, since the IMF decays\n",
      "        for i in range(len(self.c)):\n",
      "            if (massMin >= self.mass[i]) and (massMin < self.mass[i+1]):\n",
      "                maxlike = (self.c[i] / self.z) * massMin**(self.exp[i])\n",
      "                \n",
      "        Masses = []\n",
      "        #fill in Masses array until desired N\n",
      "        while (len(Masses) < N):\n",
      "            #draw candidate from logM interval\n",
      "            logM = random.uniform(log_M_Min,log_M_Max)\n",
      "            M  = 10**(logM)\n",
      "            #calculate likelihood of candidate from the Kroupa IMF\n",
      "            for i in range(len(self.c)):\n",
      "                if (M >= self.mass[i]) and (M < self.mass[i+1]):\n",
      "                    likelihood = (self.c[i] / self.z) * M**(self.exp[i])\n",
      "            #accept randomly based on comparison with likelihood\n",
      "            u = random.uniform(0,maxlike)\n",
      "            if (u < likelihood):\n",
      "                Masses.append(M)\n",
      "        return Masses\n",
      "    \n",
      "    def __call__(self, m=None):\n",
      "        return self.getValue(m)\n",
      "    \n"
     ],
     "language": "python",
     "metadata": {},
     "outputs": [],
     "prompt_number": 314
    },
    {
     "cell_type": "markdown",
     "metadata": {},
     "source": [
      "Plot at least a couple of mass functions on the same figure"
     ]
    },
    {
     "cell_type": "code",
     "collapsed": false,
     "input": [
      "%pylab inline  \n",
      "import numpy as np\n",
      "import pylab as plt\n",
      "\n",
      "k=IMF(1)\n",
      "print k.get_enclosed_Nstar(0.01,149)\n",
      "print k.get_enclosed_mass(0.01,149)\n",
      "print k.get_avg_mass(0.01, 149)\n",
      "print k.getValue(1)\n",
      "\n",
      "massval=np.logspace(-2,2,1000)\n",
      "dNval=np.empty(len(massval))\n",
      "for j in range(len(massval)):\n",
      "    inst=IMF(massval[j])\n",
      "    dNval[j] = inst.norm\n",
      "plt.plot(np.log10(massval),np.log10(dNval))\n",
      "plt.title('Kroupa IMF')\n",
      "plt.xlabel('log(M)')\n",
      "plt.ylabel('log(dN/dM)')"
     ],
     "language": "python",
     "metadata": {},
     "outputs": [
      {
       "output_type": "stream",
       "stream": "stdout",
       "text": [
        "Populating the interactive namespace from numpy and matplotlib\n",
        "2.32184055477"
       ]
      },
      {
       "output_type": "stream",
       "stream": "stdout",
       "text": [
        "\n",
        "0.830944366289"
       ]
      },
      {
       "output_type": "stream",
       "stream": "stdout",
       "text": [
        "\n",
        "0.357881752295"
       ]
      },
      {
       "output_type": "stream",
       "stream": "stdout",
       "text": [
        "\n",
        "0.0794810486969\n"
       ]
      },
      {
       "output_type": "stream",
       "stream": "stderr",
       "text": [
        "WARNING: pylab import has clobbered these variables: ['plt']\n",
        "`%pylab --no-import-all` prevents importing * from pylab and numpy\n"
       ]
      },
      {
       "metadata": {},
       "output_type": "pyout",
       "prompt_number": 319,
       "text": [
        "<matplotlib.text.Text at 0x12297070>"
       ]
      },
      {
       "metadata": {},
       "output_type": "display_data",
       "png": "[encoded data removed]",
       "text": [
        "<matplotlib.figure.Figure at 0x1035c3d0>"
       ]
      }
     ],
     "prompt_number": 319
    },
    {
     "cell_type": "markdown",
     "metadata": {},
     "source": [
      "Draw a random sample of N masses from one mass function and show that the sample follows the desired distribution"
     ]
    },
    {
     "cell_type": "code",
     "collapsed": false,
     "input": [
      "stars=k.random(10**6, 0.01, 149)\n",
      "plt.hist(np.log10(stars), 30, histtype='step', lw=3, log=True, normed=True)\n",
      "plt.plot(np.log10(massval),dNval/np.max(dNval),color='g',lw=2)\n",
      "plt.xlabel('log(M)')\n",
      "plt.ylabel('log(dN/dM)')\n",
      "plt.title('Random Sampling of the Kroupa IMF')"
     ],
     "language": "python",
     "metadata": {},
     "outputs": [
      {
       "metadata": {},
       "output_type": "pyout",
       "prompt_number": 322,
       "text": [
        "<matplotlib.text.Text at 0x127f6290>"
       ]
      },
      {
       "metadata": {},
       "output_type": "display_data",
       "png": "[encoded data removed]",
       "text": [
        "<matplotlib.figure.Figure at 0x135132f0>"
       ]
      }
     ],
     "prompt_number": 322
    },
    {
     "cell_type": "code",
     "collapsed": false,
     "input": [],
     "language": "python",
     "metadata": {},
     "outputs": []
    }
   ],
   "metadata": {}
  }
 ]
}