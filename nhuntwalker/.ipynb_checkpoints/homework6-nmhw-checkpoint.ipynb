{
 "metadata": {
  "name": ""
 },
 "nbformat": 3,
 "nbformat_minor": 0,
 "worksheets": [
  {
   "cells": [
    {
     "cell_type": "heading",
     "level": 3,
     "metadata": {},
     "source": [
      "Sklearn Homework"
     ]
    },
    {
     "cell_type": "heading",
     "level": 4,
     "metadata": {},
     "source": [
      "Exercise 1: Classification of RR Lyrae"
     ]
    },
    {
     "cell_type": "markdown",
     "metadata": {},
     "source": [
      "Goal: Use another classifier and try to improve on this precision/recall score."
     ]
    },
    {
     "cell_type": "code",
     "collapsed": false,
     "input": [
      "from astroML.datasets import fetch_rrlyrae_combined\n",
      "# Loads the RR Lyrae data set\n",
      "\n",
      "from sklearn.cross_validation import train_test_split\n",
      "# Loads the Scikit-Learn function that allows you to \n",
      "#     Cut a data set into a training set and a test set\n",
      "\n",
      "X, y = fetch_rrlyrae_combined()\n",
      "X_train, X_test, y_train, y_test = train_test_split(X,y)\n",
      "# values in matrix X contain all color information.\n",
      "#     Apparently there's 4 columns.  Are these 4 different colors?\n",
      "#     From the plot in the notes: col 0 = u-g, 1 = g-r.\n",
      "#     Perhaps 2 = r-i, 3 = i-z?\n",
      "# values in array y contain what appear to be type information.\n",
      "#     The types are either 1 or 2"
     ],
     "language": "python",
     "metadata": {},
     "outputs": [
      {
       "output_type": "stream",
       "stream": "stdout",
       "text": [
        "Downloading http://www.astro.washington.edu/users/ivezic/DMbook/data/RRLyrae.fit\n",
        "[=                                      ]  2.0kb / 78.8kb   \r"
       ]
      },
      {
       "output_type": "stream",
       "stream": "stdout",
       "text": [
        "[==                                     ]  3.9kb / 78.8kb   \r"
       ]
      },
      {
       "output_type": "stream",
       "stream": "stdout",
       "text": [
        "[===                                    ]  5.9kb / 78.8kb   \r"
       ]
      },
      {
       "output_type": "stream",
       "stream": "stdout",
       "text": [
        "[====                                   ]  7.9kb / 78.8kb   \r"
       ]
      },
      {
       "output_type": "stream",
       "stream": "stdout",
       "text": [
        "[=====                                  ]  9.8kb / 78.8kb   \r"
       ]
      },
      {
       "output_type": "stream",
       "stream": "stdout",
       "text": [
        "[======                                 ]  11.8kb / 78.8kb   \r"
       ]
      },
      {
       "output_type": "stream",
       "stream": "stdout",
       "text": [
        "[=======                                ]  13.8kb / 78.8kb   \r"
       ]
      },
      {
       "output_type": "stream",
       "stream": "stdout",
       "text": [
        "[========                               ]  15.8kb / 78.8kb   \r"
       ]
      },
      {
       "output_type": "stream",
       "stream": "stdout",
       "text": [
        "[=========                              ]  17.7kb / 78.8kb   \r"
       ]
      },
      {
       "output_type": "stream",
       "stream": "stdout",
       "text": [
        "[==========                             ]  19.7kb / 78.8kb   \r"
       ]
      },
      {
       "output_type": "stream",
       "stream": "stdout",
       "text": [
        "[===========                            ]  21.7kb / 78.8kb   \r"
       ]
      },
      {
       "output_type": "stream",
       "stream": "stdout",
       "text": [
        "[============                           ]  23.6kb / 78.8kb   \r"
       ]
      },
      {
       "output_type": "stream",
       "stream": "stdout",
       "text": [
        "[=============                          ]  25.6kb / 78.8kb   \r"
       ]
      },
      {
       "output_type": "stream",
       "stream": "stdout",
       "text": [
        "[==============                         ]  27.6kb / 78.8kb   \r"
       ]
      },
      {
       "output_type": "stream",
       "stream": "stdout",
       "text": [
        "[===============                        ]  29.5kb / 78.8kb   \r"
       ]
      },
      {
       "output_type": "stream",
       "stream": "stdout",
       "text": [
        "[================                       ]  31.5kb / 78.8kb   \r"
       ]
      },
      {
       "output_type": "stream",
       "stream": "stdout",
       "text": [
        "[=================                      ]  33.5kb / 78.8kb   \r"
       ]
      },
      {
       "output_type": "stream",
       "stream": "stdout",
       "text": [
        "[==================                     ]  35.4kb / 78.8kb   \r"
       ]
      },
      {
       "output_type": "stream",
       "stream": "stdout",
       "text": [
        "[===================                    ]  37.4kb / 78.8kb   \r"
       ]
      },
      {
       "output_type": "stream",
       "stream": "stdout",
       "text": [
        "[====================                   ]  39.4kb / 78.8kb   \r"
       ]
      },
      {
       "output_type": "stream",
       "stream": "stdout",
       "text": [
        "[=====================                  ]  41.3kb / 78.8kb   \r"
       ]
      },
      {
       "output_type": "stream",
       "stream": "stdout",
       "text": [
        "[======================                 ]  43.3kb / 78.8kb   \r"
       ]
      },
      {
       "output_type": "stream",
       "stream": "stdout",
       "text": [
        "[=======================                ]  45.3kb / 78.8kb   \r"
       ]
      },
      {
       "output_type": "stream",
       "stream": "stdout",
       "text": [
        "[========================               ]  47.2kb / 78.8kb   \r"
       ]
      },
      {
       "output_type": "stream",
       "stream": "stdout",
       "text": [
        "[=========================              ]  49.2kb / 78.8kb   \r"
       ]
      },
      {
       "output_type": "stream",
       "stream": "stdout",
       "text": [
        "[==========================             ]  51.2kb / 78.8kb   \r"
       ]
      },
      {
       "output_type": "stream",
       "stream": "stdout",
       "text": [
        "[===========================            ]  53.2kb / 78.8kb   \r"
       ]
      },
      {
       "output_type": "stream",
       "stream": "stdout",
       "text": [
        "[============================           ]  55.1kb / 78.8kb   \r"
       ]
      },
      {
       "output_type": "stream",
       "stream": "stdout",
       "text": [
        "[=============================          ]  57.1kb / 78.8kb   \r"
       ]
      },
      {
       "output_type": "stream",
       "stream": "stdout",
       "text": [
        "[==============================         ]  59.1kb / 78.8kb   \r"
       ]
      },
      {
       "output_type": "stream",
       "stream": "stdout",
       "text": [
        "[===============================        ]  61.0kb / 78.8kb   \r"
       ]
      },
      {
       "output_type": "stream",
       "stream": "stdout",
       "text": [
        "[================================       ]  63.0kb / 78.8kb   \r"
       ]
      },
      {
       "output_type": "stream",
       "stream": "stdout",
       "text": [
        "[=================================      ]  65.0kb / 78.8kb   \r"
       ]
      },
      {
       "output_type": "stream",
       "stream": "stdout",
       "text": [
        "[==================================     ]  66.9kb / 78.8kb   \r"
       ]
      },
      {
       "output_type": "stream",
       "stream": "stdout",
       "text": [
        "[===================================    ]  68.9kb / 78.8kb   \r"
       ]
      },
      {
       "output_type": "stream",
       "stream": "stdout",
       "text": [
        "[====================================   ]  70.9kb / 78.8kb   \r"
       ]
      },
      {
       "output_type": "stream",
       "stream": "stdout",
       "text": [
        "[=====================================  ]  72.8kb / 78.8kb   \r"
       ]
      },
      {
       "output_type": "stream",
       "stream": "stdout",
       "text": [
        "[====================================== ]  74.8kb / 78.8kb   \r"
       ]
      },
      {
       "output_type": "stream",
       "stream": "stdout",
       "text": [
        "[=======================================]  76.8kb / 78.8kb   \r"
       ]
      },
      {
       "output_type": "stream",
       "stream": "stdout",
       "text": [
        "[========================================]  78.8kb / 78.8kb   \r"
       ]
      },
      {
       "output_type": "stream",
       "stream": "stdout",
       "text": [
        "\n",
        "downloading cross-matched SDSS/2MASS dataset from http://www.astro.washington.edu/users/ivezic/sdss/catalogs/stripe82calibStars_v2.6.dat.gz to /Users/Nick/astroML_data\n",
        "Downloading http://www.astro.washington.edu/users/ivezic/sdss/catalogs/stripe82calibStars_v2.6.dat.gz\n",
        "[=                                      ]  1.59Mb / 63.58Mb   \r"
       ]
      },
      {
       "output_type": "stream",
       "stream": "stdout",
       "text": [
        "[==                                     ]  3.18Mb / 63.58Mb   \r"
       ]
      },
      {
       "output_type": "stream",
       "stream": "stdout",
       "text": [
        "[===                                    ]  4.77Mb / 63.58Mb   \r"
       ]
      },
      {
       "output_type": "stream",
       "stream": "stdout",
       "text": [
        "[====                                   ]  6.36Mb / 63.58Mb   \r"
       ]
      },
      {
       "output_type": "stream",
       "stream": "stdout",
       "text": [
        "[=====                                  ]  7.95Mb / 63.58Mb   \r"
       ]
      },
      {
       "output_type": "stream",
       "stream": "stdout",
       "text": [
        "[======                                 ]  9.54Mb / 63.58Mb   \r"
       ]
      },
      {
       "output_type": "stream",
       "stream": "stdout",
       "text": [
        "[=======                                ]  11.13Mb / 63.58Mb   \r"
       ]
      },
      {
       "output_type": "stream",
       "stream": "stdout",
       "text": [
        "[========                               ]  12.72Mb / 63.58Mb   \r"
       ]
      },
      {
       "output_type": "stream",
       "stream": "stdout",
       "text": [
        "[=========                              ]  14.31Mb / 63.58Mb   \r"
       ]
      },
      {
       "output_type": "stream",
       "stream": "stdout",
       "text": [
        "[==========                             ]  15.89Mb / 63.58Mb   \r"
       ]
      },
      {
       "output_type": "stream",
       "stream": "stdout",
       "text": [
        "[===========                            ]  17.48Mb / 63.58Mb   \r"
       ]
      },
      {
       "output_type": "stream",
       "stream": "stdout",
       "text": [
        "[============                           ]  19.07Mb / 63.58Mb   \r"
       ]
      },
      {
       "output_type": "stream",
       "stream": "stdout",
       "text": [
        "[=============                          ]  20.66Mb / 63.58Mb   \r"
       ]
      },
      {
       "output_type": "stream",
       "stream": "stdout",
       "text": [
        "[==============                         ]  22.25Mb / 63.58Mb   \r"
       ]
      },
      {
       "output_type": "stream",
       "stream": "stdout",
       "text": [
        "[===============                        ]  23.84Mb / 63.58Mb   \r"
       ]
      },
      {
       "output_type": "stream",
       "stream": "stdout",
       "text": [
        "[================                       ]  25.43Mb / 63.58Mb   \r"
       ]
      },
      {
       "output_type": "stream",
       "stream": "stdout",
       "text": [
        "[=================                      ]  27.02Mb / 63.58Mb   \r"
       ]
      },
      {
       "output_type": "stream",
       "stream": "stdout",
       "text": [
        "[==================                     ]  28.61Mb / 63.58Mb   \r"
       ]
      },
      {
       "output_type": "stream",
       "stream": "stdout",
       "text": [
        "[===================                    ]  30.20Mb / 63.58Mb   \r"
       ]
      },
      {
       "output_type": "stream",
       "stream": "stdout",
       "text": [
        "[====================                   ]  31.79Mb / 63.58Mb   \r"
       ]
      },
      {
       "output_type": "stream",
       "stream": "stdout",
       "text": [
        "[=====================                  ]  33.38Mb / 63.58Mb   \r"
       ]
      },
      {
       "output_type": "stream",
       "stream": "stdout",
       "text": [
        "[======================                 ]  34.97Mb / 63.58Mb   \r"
       ]
      },
      {
       "output_type": "stream",
       "stream": "stdout",
       "text": [
        "[=======================                ]  36.56Mb / 63.58Mb   \r"
       ]
      },
      {
       "output_type": "stream",
       "stream": "stdout",
       "text": [
        "[========================               ]  38.15Mb / 63.58Mb   \r"
       ]
      },
      {
       "output_type": "stream",
       "stream": "stdout",
       "text": [
        "[=========================              ]  39.74Mb / 63.58Mb   \r"
       ]
      },
      {
       "output_type": "stream",
       "stream": "stdout",
       "text": [
        "[==========================             ]  41.33Mb / 63.58Mb   \r"
       ]
      },
      {
       "output_type": "stream",
       "stream": "stdout",
       "text": [
        "[===========================            ]  42.92Mb / 63.58Mb   \r"
       ]
      },
      {
       "output_type": "stream",
       "stream": "stdout",
       "text": [
        "[============================           ]  44.51Mb / 63.58Mb   \r"
       ]
      },
      {
       "output_type": "stream",
       "stream": "stdout",
       "text": [
        "[=============================          ]  46.10Mb / 63.58Mb   \r"
       ]
      },
      {
       "output_type": "stream",
       "stream": "stdout",
       "text": [
        "[==============================         ]  47.68Mb / 63.58Mb   \r"
       ]
      },
      {
       "output_type": "stream",
       "stream": "stdout",
       "text": [
        "[===============================        ]  49.27Mb / 63.58Mb   \r"
       ]
      },
      {
       "output_type": "stream",
       "stream": "stdout",
       "text": [
        "[================================       ]  50.86Mb / 63.58Mb   \r"
       ]
      },
      {
       "output_type": "stream",
       "stream": "stdout",
       "text": [
        "[=================================      ]  52.45Mb / 63.58Mb   \r"
       ]
      },
      {
       "output_type": "stream",
       "stream": "stdout",
       "text": [
        "[==================================     ]  54.04Mb / 63.58Mb   \r"
       ]
      },
      {
       "output_type": "stream",
       "stream": "stdout",
       "text": [
        "[===================================    ]  55.63Mb / 63.58Mb   \r"
       ]
      },
      {
       "output_type": "stream",
       "stream": "stdout",
       "text": [
        "[====================================   ]  57.22Mb / 63.58Mb   \r"
       ]
      },
      {
       "output_type": "stream",
       "stream": "stdout",
       "text": [
        "[=====================================  ]  58.81Mb / 63.58Mb   \r"
       ]
      },
      {
       "output_type": "stream",
       "stream": "stdout",
       "text": [
        "[====================================== ]  60.40Mb / 63.58Mb   \r"
       ]
      },
      {
       "output_type": "stream",
       "stream": "stdout",
       "text": [
        "[=======================================]  61.99Mb / 63.58Mb   \r"
       ]
      },
      {
       "output_type": "stream",
       "stream": "stdout",
       "text": [
        "[========================================]  63.58Mb / 63.58Mb   \r"
       ]
      },
      {
       "output_type": "stream",
       "stream": "stdout",
       "text": [
        "[=========================================]  63.58Mb / 63.58Mb   \r"
       ]
      },
      {
       "output_type": "stream",
       "stream": "stdout",
       "text": [
        "\n",
        "uncompressing file...\n"
       ]
      }
     ],
     "prompt_number": 2
    },
    {
     "cell_type": "code",
     "collapsed": false,
     "input": [
      "print X.shape\n",
      "print set(y)"
     ],
     "language": "python",
     "metadata": {},
     "outputs": [
      {
       "output_type": "stream",
       "stream": "stdout",
       "text": [
        "(93141, 4)\n",
        "set([0.0, 1.0])\n"
       ]
      }
     ],
     "prompt_number": 11
    },
    {
     "cell_type": "code",
     "collapsed": false,
     "input": [
      "# Import the basic modules that I always work with\n",
      "import numpy as np\n",
      "import matplotlib.pyplot as plt\n",
      "%matplotlib inline\n"
     ],
     "language": "python",
     "metadata": {},
     "outputs": []
    },
    {
     "cell_type": "code",
     "collapsed": false,
     "input": [
      "N_plot = 5000\n",
      "t1 = np.where(y == 0)\n",
      "plt.scatter(X[-N_plot:,0][t1], X[-N_plot:, 1][t1], c=y[-N_plot:][t1],\n",
      "            edgecolors='none')"
     ],
     "language": "python",
     "metadata": {},
     "outputs": []
    }
   ],
   "metadata": {}
  }
 ]
}