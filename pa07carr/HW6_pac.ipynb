{
 "metadata": {
  "name": ""
 },
 "nbformat": 3,
 "nbformat_minor": 0,
 "worksheets": [
  {
   "cells": [
    {
     "cell_type": "markdown",
     "metadata": {},
     "source": [
      "Patti Carroll\n",
      "\n",
      "HW6\n"
     ]
    },
    {
     "cell_type": "heading",
     "level": 3,
     "metadata": {},
     "source": [
      "Exercise 1: Classification of RR Lyrae"
     ]
    },
    {
     "cell_type": "markdown",
     "metadata": {},
     "source": [
      "Here's the original code running the k-nearest neighbors classifier"
     ]
    },
    {
     "cell_type": "code",
     "collapsed": false,
     "input": [
      "%matplotlib inline\n",
      "\n",
      "from astroML.datasets import fetch_rrlyrae_combined\n",
      "from sklearn.cross_validation import train_test_split\n",
      "import matplotlib.pyplot as plt\n",
      "import numpy as np\n",
      "\n",
      "\n",
      "X, y = fetch_rrlyrae_combined()\n",
      "\n",
      "# For now, we'll only fit the first two colors\n",
      "X_train, X_test, y_train, y_test = train_test_split(X, y)\n",
      "\n",
      "\n",
      "from sklearn.neighbors import KNeighborsClassifier\n",
      "clf = KNeighborsClassifier(n_neighbors=5)\n",
      "clf.fit(X_train, y_train)\n",
      "y_pred = clf.predict(X_test)\n",
      "\n",
      "print np.sum(y_pred == y_test)\n",
      "print np.sum(y_pred != y_test)\n",
      "\n",
      "from sklearn.metrics import classification_report\n",
      "print classification_report(y_test, y_pred,\n",
      "                            target_names=['MS star', 'RR Lyrae'])"
     ],
     "language": "python",
     "metadata": {},
     "outputs": [
      {
       "output_type": "stream",
       "stream": "stdout",
       "text": [
        "23202\n",
        "84\n",
        "             precision    recall  f1-score   support\n",
        "\n",
        "    MS star       1.00      1.00      1.00     23156\n",
        "   RR Lyrae       0.69      0.65      0.67       130\n",
        "\n",
        "avg / total       1.00      1.00      1.00     23286\n",
        "\n"
       ]
      }
     ],
     "prompt_number": 3
    },
    {
     "cell_type": "markdown",
     "metadata": {},
     "source": [
      "Now I\"m going to use SVC to see if it can do better."
     ]
    },
    {
     "cell_type": "code",
     "collapsed": false,
     "input": [
      "from sklearn.svm import SVC\n",
      "\n",
      "model = SVC()\n",
      "model.fit(X_train, y_train)\n",
      "\n",
      "y_pred = model.predict(X_test)\n",
      "\n",
      "print np.sum(y_pred == y_test)\n",
      "print np.sum(y_pred != y_test)\n",
      "\n",
      "from sklearn.metrics import classification_report\n",
      "print classification_report(y_test, y_pred,\n",
      "                            target_names=['MS star', 'RR Lyrae'])"
     ],
     "language": "python",
     "metadata": {},
     "outputs": [
      {
       "output_type": "stream",
       "stream": "stdout",
       "text": [
        "23154\n",
        "132\n",
        "The sum of true positives and false positives are equal to zero for some labels. Precision is ill defined for those labels [ 1.]. The precision and recall are equal to zero for some labels. fbeta_score is ill defined for those labels [ 1.]. \n",
        "             precision    recall  f1-score   support\n",
        "\n",
        "    MS star       0.99      1.00      1.00     23154\n",
        "   RR Lyrae       0.00      0.00      0.00       132\n",
        "\n",
        "avg / total       0.99      0.99      0.99     23286\n",
        "\n"
       ]
      }
     ],
     "prompt_number": 2
    },
    {
     "cell_type": "markdown",
     "metadata": {},
     "source": [
      "Well, that's no good. Let's try LDA"
     ]
    },
    {
     "cell_type": "code",
     "collapsed": false,
     "input": [
      "from sklearn.lda import LDA\n",
      "\n",
      "model = LDA()\n",
      "model.fit(X_train, y_train)\n",
      "\n",
      "y_pred = model.predict(X_test)\n",
      "\n",
      "print np.sum(y_pred == y_test)\n",
      "print np.sum(y_pred != y_test)\n",
      "\n",
      "from sklearn.metrics import classification_report\n",
      "print classification_report(y_test, y_pred,\n",
      "                            target_names=['MS star', 'RR Lyrae'])"
     ],
     "language": "python",
     "metadata": {},
     "outputs": [
      {
       "output_type": "stream",
       "stream": "stdout",
       "text": [
        "22829\n",
        "457\n",
        "             precision    recall  f1-score   support\n",
        "\n",
        "    MS star       1.00      0.98      0.99     23149\n",
        "   RR Lyrae       0.19      0.69      0.29       137\n",
        "\n",
        "avg / total       0.99      0.98      0.99     23286\n",
        "\n"
       ]
      }
     ],
     "prompt_number": 14
    },
    {
     "cell_type": "markdown",
     "metadata": {},
     "source": [
      "High contamination for RRL, but the completeness is better. Ok, let's try Random Forest."
     ]
    },
    {
     "cell_type": "code",
     "collapsed": false,
     "input": [
      "from sklearn.ensemble import RandomForestClassifier as RFC\n",
      "\n",
      "model = RFC()\n",
      "model.fit(X_train, y_train)\n",
      "\n",
      "y_pred = model.predict(X_test)\n",
      "\n",
      "print np.sum(y_pred == y_test)\n",
      "print np.sum(y_pred != y_test)\n",
      "\n",
      "from sklearn.metrics import classification_report\n",
      "print classification_report(y_test, y_pred,\n",
      "                            target_names=['MS star', 'RR Lyrae'])"
     ],
     "language": "python",
     "metadata": {},
     "outputs": [
      {
       "output_type": "stream",
       "stream": "stdout",
       "text": [
        "23194\n",
        "92\n",
        "             precision    recall  f1-score   support\n",
        "\n",
        "    MS star       1.00      1.00      1.00     23154\n",
        "   RR Lyrae       0.74      0.47      0.57       132\n",
        "\n",
        "avg / total       1.00      1.00      1.00     23286\n",
        "\n"
       ]
      }
     ],
     "prompt_number": 3
    },
    {
     "cell_type": "markdown",
     "metadata": {},
     "source": [
      "Alright, that seems to be doing a little better on precision for the RRL though the recall or completenss is a little lower. It's a trade-off. It can probably do better if tweaked."
     ]
    },
    {
     "cell_type": "heading",
     "level": 3,
     "metadata": {},
     "source": [
      "Exercise 2: Regression: Photometric Redshifts"
     ]
    },
    {
     "cell_type": "code",
     "collapsed": false,
     "input": [
      "from astroML.datasets import fetch_sdss_specgals\n",
      "\n",
      "data = fetch_sdss_specgals()\n",
      "\n",
      "# put magnitudes in a matrix\n",
      "X = np.vstack([data['modelMag_%s' % f] for f in 'ugriz']).T\n",
      "y = data['z']\n",
      "\n",
      "# Split into training and testing data\n",
      "X_train, X_test, y_train, y_test = train_test_split(X, y)\n",
      "\n",
      "from sklearn.linear_model import LinearRegression\n",
      "est = LinearRegression()\n",
      "est.fit(X_train, y_train)\n",
      "y_pred = est.predict(X_test)\n",
      "\n",
      "rms = np.sqrt(np.mean((y_test - y_pred) ** 2))\n",
      "print rms"
     ],
     "language": "python",
     "metadata": {},
     "outputs": [
      {
       "output_type": "stream",
       "stream": "stdout",
       "text": [
        "0.0321866479686\n"
       ]
      }
     ],
     "prompt_number": 4
    },
    {
     "cell_type": "markdown",
     "metadata": {},
     "source": [
      "Using K-Nearest Neighbors"
     ]
    },
    {
     "cell_type": "code",
     "collapsed": false,
     "input": [
      "from sklearn.ensemble import RandomForestClassifier as RFC\n",
      "from sklearn.neighbors import KNeighborsRegressor as KNR\n",
      "est = KNR()\n",
      "est.fit(X_train, y_train)\n",
      "y_pred = est.predict(X_test)\n",
      "\n",
      "rms = np.sqrt(np.mean((y_test - y_pred) ** 2))\n",
      "print rms\n"
     ],
     "language": "python",
     "metadata": {},
     "outputs": [
      {
       "output_type": "stream",
       "stream": "stdout",
       "text": [
        "0.0233027704659\n"
       ]
      }
     ],
     "prompt_number": 7
    },
    {
     "cell_type": "markdown",
     "metadata": {},
     "source": [
      "KNN does better than linear regression. The rms is .023 compared to .032."
     ]
    }
   ],
   "metadata": {}
  }
 ]
}